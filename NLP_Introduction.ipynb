{
 "cells": [
  {
   "cell_type": "markdown",
   "metadata": {},
   "source": [
    "# Import libraries"
   ]
  },
  {
   "cell_type": "code",
   "execution_count": 1,
   "metadata": {},
   "outputs": [],
   "source": [
    "import pandas as pd\n",
    "import numpy as np\n",
    "import string\n",
    "\n",
    "import matplotlib.pyplot as plt\n",
    "import seaborn as sns\n",
    "from matplotlib.pyplot import figure\n",
    "\n",
    "sns.set_style(\"whitegrid\")\n",
    "import warnings\n",
    "warnings.filterwarnings('ignore')"
   ]
  },
  {
   "cell_type": "code",
   "execution_count": 2,
   "metadata": {},
   "outputs": [],
   "source": [
    "import nltk\n",
    "# nltk.download()"
   ]
  },
  {
   "cell_type": "markdown",
   "metadata": {},
   "source": [
    "# Regular Expressions (regex) tutorial"
   ]
  },
  {
   "cell_type": "markdown",
   "metadata": {},
   "source": [
    "A regular expression, regex or regexp (sometimes called a rational expression) is a sequence of characters that define a search pattern. Usually such patterns are used by string searching algorithms for “find” or “find and replace” operations on strings, or for input validation. It is a technique developed in theoretical computer science and formal language theory.\n",
    "\n",
    "— Wikipedia"
   ]
  },
  {
   "cell_type": "code",
   "execution_count": 3,
   "metadata": {},
   "outputs": [],
   "source": [
    "import re"
   ]
  },
  {
   "cell_type": "markdown",
   "metadata": {},
   "source": [
    "Here are the sample strings we'll be using."
   ]
  },
  {
   "cell_type": "code",
   "execution_count": 5,
   "metadata": {},
   "outputs": [],
   "source": [
    "lowercase_alphabet = 'abcdefghijklmnopqrstuvwxyz'\n",
    "uppercase_alphabet = lowercase_alphabet.upper()\n",
    "numbers = '1234567890'\n",
    "website = 'www.google.com'\n",
    "sentence = 'The Quick Brown Fox Jumped Over The Lazy Dog'\n",
    "phone_numbers = \"\"\"123-456-7890\n",
    "                    987.654.321\n",
    "                    234-567-8901\n",
    "                    654.321.987\n",
    "                    345-678-9012\n",
    "                    321.654.978\n",
    "                    456-789-0123\n",
    "                    abc-efg-hijk\n",
    "                \"\"\"\n",
    "special_characters = '[\\^$.|?**+()'"
   ]
  },
  {
   "cell_type": "markdown",
   "metadata": {},
   "source": [
    "## Using explicit characters"
   ]
  },
  {
   "cell_type": "markdown",
   "metadata": {},
   "source": [
    "There are different methods of string search using re: `re.match()`, `re.search()`, and `re.findall()`. Here are the differences between the methods.\n",
    "\n",
    "`re.match()` - finds match if it occurs at the start of the string\n",
    "\n",
    "`re.search()` - similar to re.match() but it doesn't limit matches to be at the beginning of the string\n",
    "\n",
    "`re.findall()` - helps to get a list of all matching patterns. It searches from start or end of the given string.\n",
    "\n",
    "When searching a pattern, it is recommended to use re.findall() always, since it works like both `re.search()` and `re.match()`."
   ]
  },
  {
   "cell_type": "code",
   "execution_count": 5,
   "metadata": {},
   "outputs": [
    {
     "name": "stdout",
     "output_type": "stream",
     "text": [
      "abc\n"
     ]
    }
   ],
   "source": [
    "# Using re.match()\n",
    "result = re.match('abc', lowercase_alphabet)\n",
    "print(result.group(0))"
   ]
  },
  {
   "cell_type": "code",
   "execution_count": 6,
   "metadata": {},
   "outputs": [
    {
     "name": "stdout",
     "output_type": "stream",
     "text": [
      "xyz\n"
     ]
    }
   ],
   "source": [
    "# Using re.search()\n",
    "result = re.search('xyz', lowercase_alphabet)\n",
    "print(result.group(0))"
   ]
  },
  {
   "cell_type": "code",
   "execution_count": 7,
   "metadata": {},
   "outputs": [
    {
     "data": {
      "text/plain": [
       "['abc']"
      ]
     },
     "execution_count": 7,
     "metadata": {},
     "output_type": "execute_result"
    }
   ],
   "source": [
    "# Using re.findall()\n",
    "re.findall('abc', lowercase_alphabet)"
   ]
  },
  {
   "cell_type": "code",
   "execution_count": 8,
   "metadata": {},
   "outputs": [
    {
     "data": {
      "text/plain": [
       "['ABC']"
      ]
     },
     "execution_count": 8,
     "metadata": {},
     "output_type": "execute_result"
    }
   ],
   "source": [
    "re.findall('ABC', uppercase_alphabet)"
   ]
  },
  {
   "cell_type": "code",
   "execution_count": 9,
   "metadata": {},
   "outputs": [
    {
     "data": {
      "text/plain": [
       "[]"
      ]
     },
     "execution_count": 9,
     "metadata": {},
     "output_type": "execute_result"
    }
   ],
   "source": [
    "re.findall('abc',uppercase_alphabet)"
   ]
  },
  {
   "cell_type": "markdown",
   "metadata": {},
   "source": [
    "## Using literal characters"
   ]
  },
  {
   "cell_type": "markdown",
   "metadata": {},
   "source": [
    "In order to match any literal characters(except the special characters), you have to introduce a backslash '\\\\' followed by the character you'd like to select."
   ]
  },
  {
   "cell_type": "code",
   "execution_count": 10,
   "metadata": {},
   "outputs": [
    {
     "data": {
      "text/plain": [
       "['www.google.com']"
      ]
     },
     "execution_count": 10,
     "metadata": {},
     "output_type": "execute_result"
    }
   ],
   "source": [
    "re.findall('www\\.google\\.com', website)"
   ]
  },
  {
   "cell_type": "code",
   "execution_count": 11,
   "metadata": {},
   "outputs": [
    {
     "data": {
      "text/plain": [
       "['$']"
      ]
     },
     "execution_count": 11,
     "metadata": {},
     "output_type": "execute_result"
    }
   ],
   "source": [
    "re.findall('\\$', special_characters)"
   ]
  },
  {
   "cell_type": "code",
   "execution_count": 12,
   "metadata": {},
   "outputs": [
    {
     "data": {
      "text/plain": [
       "['']"
      ]
     },
     "execution_count": 12,
     "metadata": {},
     "output_type": "execute_result"
    }
   ],
   "source": [
    "re.findall('$', special_characters)"
   ]
  },
  {
   "cell_type": "code",
   "execution_count": 13,
   "metadata": {},
   "outputs": [
    {
     "data": {
      "text/plain": [
       "['|']"
      ]
     },
     "execution_count": 13,
     "metadata": {},
     "output_type": "execute_result"
    }
   ],
   "source": [
    "re.findall('\\|', special_characters)"
   ]
  },
  {
   "cell_type": "markdown",
   "metadata": {},
   "source": [
    "If you want to get specific attributes of a matched token, you can use `re.finditer()` and store the attribute (span, group, etc.) in a list."
   ]
  },
  {
   "cell_type": "code",
   "execution_count": 14,
   "metadata": {},
   "outputs": [
    {
     "name": "stdout",
     "output_type": "stream",
     "text": [
      "(23, 31) diabetes\n",
      "(61, 69) diabetes\n"
     ]
    }
   ],
   "source": [
    "txt = 'The patient has Type-2 diabetes. His family has a history of diabetes.'\n",
    "for match in re.finditer('diabetes', txt):\n",
    "    print(match.span(), match.group())"
   ]
  },
  {
   "cell_type": "markdown",
   "metadata": {},
   "source": [
    "## Pattern matching"
   ]
  },
  {
   "cell_type": "markdown",
   "metadata": {},
   "source": [
    "<img src=\"regex_notes.png\">"
   ]
  },
  {
   "cell_type": "markdown",
   "metadata": {},
   "source": [
    "> *Cheatsheet tables from: regexr.com*"
   ]
  },
  {
   "cell_type": "markdown",
   "metadata": {},
   "source": [
    "Let's say we want to match every word from our sentence and put it in a list."
   ]
  },
  {
   "cell_type": "code",
   "execution_count": 15,
   "metadata": {},
   "outputs": [
    {
     "data": {
      "text/plain": [
       "'The Quick Brown Fox Jumped Over The Lazy Dog'"
      ]
     },
     "execution_count": 15,
     "metadata": {},
     "output_type": "execute_result"
    }
   ],
   "source": [
    "sentence"
   ]
  },
  {
   "cell_type": "code",
   "execution_count": 16,
   "metadata": {},
   "outputs": [
    {
     "data": {
      "text/plain": [
       "['1', '2', '3', '4', '5', '6', '7', '8', '9', '0']"
      ]
     },
     "execution_count": 16,
     "metadata": {},
     "output_type": "execute_result"
    }
   ],
   "source": [
    "re.findall('.', numbers)"
   ]
  },
  {
   "cell_type": "code",
   "execution_count": 17,
   "metadata": {},
   "outputs": [
    {
     "data": {
      "text/plain": [
       "['The', 'Quick', 'Brown', 'Fox', 'Jumped', 'Over', 'The', 'Lazy', 'Dog']"
      ]
     },
     "execution_count": 17,
     "metadata": {},
     "output_type": "execute_result"
    }
   ],
   "source": [
    "re.findall('\\w{1,}', sentence)"
   ]
  },
  {
   "cell_type": "markdown",
   "metadata": {},
   "source": [
    "> Syntax:\n",
    "<br><br> `\\w` = any word\n",
    "<br> `{1,}` = 1 or more characters\n",
    "<br><br> `\\w{1,}` - match [any word] with [1 or more characters] and put each word matched in a list."
   ]
  },
  {
   "cell_type": "markdown",
   "metadata": {},
   "source": [
    "What if we want to select phone numbers from `phone_numbers` that follow the format `xxx-xxx-xxxx` where x's are all digits?"
   ]
  },
  {
   "cell_type": "code",
   "execution_count": 7,
   "metadata": {},
   "outputs": [
    {
     "name": "stdout",
     "output_type": "stream",
     "text": [
      "123-456-7890\n",
      "                    987.654.321\n",
      "                    234-567-8901\n",
      "                    654.321.987\n",
      "                    345-678-9012\n",
      "                    321.654.978\n",
      "                    456-789-0123\n",
      "                    abc-efg-hijk\n",
      "                \n"
     ]
    }
   ],
   "source": [
    "print(phone_numbers)"
   ]
  },
  {
   "cell_type": "code",
   "execution_count": 18,
   "metadata": {},
   "outputs": [
    {
     "data": {
      "text/plain": [
       "['123-456-7890', '234-567-8901', '345-678-9012', '456-789-0123']"
      ]
     },
     "execution_count": 18,
     "metadata": {},
     "output_type": "execute_result"
    }
   ],
   "source": [
    "re.findall('\\d{3}\\-\\d{3}\\-\\d{4}', phone_numbers)"
   ]
  },
  {
   "cell_type": "markdown",
   "metadata": {},
   "source": [
    "> Syntax:\n",
    "<br><br> `\\d` = any digit\n",
    "<br> `{n}` = exactly *n* number of characters ({3}: exactly 3 and {4}: exactly 4)\n",
    "<br> `\\-` = select hyphen\n",
    "<br><br> `\\d{3}\\-\\d{3}\\-\\d{4}` - match [any digit] with [exactly three characters] followed by [hyphen] match [any digit] with [exactly three characters] followed by [hyphen] match [any digit] with [exactly four characters]"
   ]
  },
  {
   "cell_type": "markdown",
   "metadata": {},
   "source": [
    "## Disjunctions"
   ]
  },
  {
   "cell_type": "markdown",
   "metadata": {},
   "source": [
    "You can match with a set of characters by enclosing the options in `square braces []`."
   ]
  },
  {
   "cell_type": "code",
   "execution_count": 19,
   "metadata": {},
   "outputs": [
    {
     "data": {
      "text/plain": [
       "['Diabetes', 'diabetes']"
      ]
     },
     "execution_count": 19,
     "metadata": {},
     "output_type": "execute_result"
    }
   ],
   "source": [
    "txt = \"I'm afraid you have Type 2 Diabetes. Does your family have a history of diabetes?\"\n",
    "re.findall('[Dd]iabetes', txt)"
   ]
  },
  {
   "cell_type": "markdown",
   "metadata": {},
   "source": [
    "You can also specify a range in the square braces!"
   ]
  },
  {
   "cell_type": "code",
   "execution_count": 20,
   "metadata": {},
   "outputs": [
    {
     "data": {
      "text/plain": [
       "['www.google.com', 'www.slideshare.net', 'www.usa.gov']"
      ]
     },
     "execution_count": 20,
     "metadata": {},
     "output_type": "execute_result"
    }
   ],
   "source": [
    "websites = \"\"\"www.google.com\n",
    "            www.slideshare.net\n",
    "            www.usa.gov\n",
    "            \"\"\"\n",
    "re.findall('w{3}\\.\\w{1,}\\.[a-z]{3}', websites)"
   ]
  },
  {
   "cell_type": "markdown",
   "metadata": {},
   "source": [
    "You can also use pipes `|` to do an either-or match."
   ]
  },
  {
   "cell_type": "code",
   "execution_count": 21,
   "metadata": {},
   "outputs": [
    {
     "data": {
      "text/plain": [
       "['Pembrolizumab', 'axitinib']"
      ]
     },
     "execution_count": 21,
     "metadata": {},
     "output_type": "execute_result"
    }
   ],
   "source": [
    "txt = 'Pembrolizumab plus axitinib versus sunitinib for Advanced Renal-Cell Carcinoma'\n",
    "re.findall('[Pp]embrolizumab|[Aa]xitinib', txt)"
   ]
  },
  {
   "cell_type": "markdown",
   "metadata": {},
   "source": [
    "We can also set characters to be optional! This can be done using the `!` symbol."
   ]
  },
  {
   "cell_type": "markdown",
   "metadata": {},
   "source": [
    "## Negation"
   ]
  },
  {
   "cell_type": "markdown",
   "metadata": {},
   "source": [
    "The carat `^` sumbol means negation only when it's the first character in the square brackets."
   ]
  },
  {
   "cell_type": "code",
   "execution_count": 22,
   "metadata": {},
   "outputs": [
    {
     "data": {
      "text/plain": [
       "['2', ',', '.']"
      ]
     },
     "execution_count": 22,
     "metadata": {},
     "output_type": "execute_result"
    }
   ],
   "source": [
    "txt = 'She had 2 two kittens, Olivia and Meredith.'\n",
    "re.findall('[^A-Za-z\\s]', txt)"
   ]
  },
  {
   "cell_type": "code",
   "execution_count": 25,
   "metadata": {},
   "outputs": [
    {
     "data": {
      "text/plain": [
       "[' was not a good year']"
      ]
     },
     "execution_count": 25,
     "metadata": {},
     "output_type": "execute_result"
    }
   ],
   "source": [
    "txt = '2020 was not a good year'\n",
    "re.findall('[^0-9]+', txt)"
   ]
  },
  {
   "cell_type": "markdown",
   "metadata": {},
   "source": [
    "## Possible characters"
   ]
  },
  {
   "cell_type": "code",
   "execution_count": 26,
   "metadata": {},
   "outputs": [
    {
     "data": {
      "text/plain": [
       "['drove', 'drive']"
      ]
     },
     "execution_count": 26,
     "metadata": {},
     "output_type": "execute_result"
    }
   ],
   "source": [
    "txt = \"I'm not sure if he drove yesterday. But he'll drive to school today.\"\n",
    "re.findall('dr.ve', txt)"
   ]
  },
  {
   "cell_type": "markdown",
   "metadata": {},
   "source": [
    "## Anchors"
   ]
  },
  {
   "cell_type": "code",
   "execution_count": 27,
   "metadata": {},
   "outputs": [
    {
     "data": {
      "text/plain": [
       "['There']"
      ]
     },
     "execution_count": 27,
     "metadata": {},
     "output_type": "execute_result"
    }
   ],
   "source": [
    "txt = \"There are no people over there.\"\n",
    "re.findall('^[Tt]here', txt)"
   ]
  },
  {
   "cell_type": "code",
   "execution_count": 28,
   "metadata": {},
   "outputs": [
    {
     "data": {
      "text/plain": [
       "[]"
      ]
     },
     "execution_count": 28,
     "metadata": {},
     "output_type": "execute_result"
    }
   ],
   "source": [
    "txt = \"There are no people over there.\"\n",
    "re.findall('^there', txt)"
   ]
  },
  {
   "cell_type": "code",
   "execution_count": 29,
   "metadata": {},
   "outputs": [
    {
     "data": {
      "text/plain": [
       "['!']"
      ]
     },
     "execution_count": 29,
     "metadata": {},
     "output_type": "execute_result"
    }
   ],
   "source": [
    "txt = \"It's not a real sentence without a puntuation mark!\"\n",
    "re.findall('\\!$', txt)"
   ]
  },
  {
   "cell_type": "code",
   "execution_count": 30,
   "metadata": {},
   "outputs": [
    {
     "data": {
      "text/plain": [
       "[]"
      ]
     },
     "execution_count": 30,
     "metadata": {},
     "output_type": "execute_result"
    }
   ],
   "source": [
    "txt = \"!It's not a real sentence without a puntuation mark\"\n",
    "re.findall('\\!$', txt)"
   ]
  },
  {
   "cell_type": "markdown",
   "metadata": {},
   "source": [
    "# Sentiment Analysis"
   ]
  },
  {
   "cell_type": "markdown",
   "metadata": {},
   "source": [
    "I used the US Amazon Reviews of Wireless devices dataset. You can download the dataset by clicking <a href=\"https://s3.amazonaws.com/amazon-reviews-pds/tsv/amazon_reviews_us_Wireless_v1_00.tsv.gz\">here</a>.\n",
    "\n",
    "You can also click <a href=\"https://s3.amazonaws.com/amazon-reviews-pds/tsv/index.txt\">here</a> to see all the amazon review datasets you can use to try your own sentiment analysis!"
   ]
  },
  {
   "cell_type": "markdown",
   "metadata": {},
   "source": [
    "## Data preparation"
   ]
  },
  {
   "cell_type": "code",
   "execution_count": 8,
   "metadata": {},
   "outputs": [
    {
     "name": "stderr",
     "output_type": "stream",
     "text": [
      "b'Skipping line 51163: expected 15 fields, saw 22\\n'\n",
      "b'Skipping line 77018: expected 15 fields, saw 22\\nSkipping line 97528: expected 15 fields, saw 22\\n'\n",
      "b'Skipping line 145503: expected 15 fields, saw 22\\nSkipping line 172172: expected 15 fields, saw 22\\nSkipping line 185136: expected 15 fields, saw 22\\nSkipping line 187592: expected 15 fields, saw 22\\n'\n",
      "b'Skipping line 222158: expected 15 fields, saw 22\\nSkipping line 232048: expected 15 fields, saw 22\\nSkipping line 232320: expected 15 fields, saw 22\\nSkipping line 234653: expected 15 fields, saw 22\\nSkipping line 257210: expected 15 fields, saw 22\\nSkipping line 261368: expected 15 fields, saw 22\\n'\n",
      "b'Skipping line 262843: expected 15 fields, saw 22\\nSkipping line 274082: expected 15 fields, saw 22\\nSkipping line 276172: expected 15 fields, saw 22\\nSkipping line 327076: expected 15 fields, saw 22\\n'\n",
      "b'Skipping line 328675: expected 15 fields, saw 22\\nSkipping line 366744: expected 15 fields, saw 22\\nSkipping line 380897: expected 15 fields, saw 22\\nSkipping line 385372: expected 15 fields, saw 22\\nSkipping line 386090: expected 15 fields, saw 22\\nSkipping line 390349: expected 15 fields, saw 22\\n'\n",
      "b'Skipping line 415621: expected 15 fields, saw 22\\nSkipping line 418639: expected 15 fields, saw 22\\nSkipping line 428228: expected 15 fields, saw 22\\nSkipping line 430263: expected 15 fields, saw 22\\nSkipping line 441782: expected 15 fields, saw 22\\n'\n",
      "b'Skipping line 468743: expected 15 fields, saw 22\\n'\n",
      "b'Skipping line 528339: expected 15 fields, saw 22\\nSkipping line 562081: expected 15 fields, saw 22\\nSkipping line 567006: expected 15 fields, saw 22\\nSkipping line 569246: expected 15 fields, saw 22\\nSkipping line 574405: expected 15 fields, saw 22\\n'\n",
      "b'Skipping line 603332: expected 15 fields, saw 22\\nSkipping line 636067: expected 15 fields, saw 22\\n'\n",
      "b'Skipping line 660230: expected 15 fields, saw 22\\nSkipping line 660828: expected 15 fields, saw 22\\nSkipping line 678625: expected 15 fields, saw 22\\n'\n",
      "b'Skipping line 756367: expected 15 fields, saw 22\\nSkipping line 760714: expected 15 fields, saw 22\\nSkipping line 786243: expected 15 fields, saw 22\\n'\n",
      "b'Skipping line 798324: expected 15 fields, saw 22\\nSkipping line 821088: expected 15 fields, saw 22\\nSkipping line 825319: expected 15 fields, saw 22\\n'\n",
      "b'Skipping line 852507: expected 15 fields, saw 22\\nSkipping line 866712: expected 15 fields, saw 22\\nSkipping line 869545: expected 15 fields, saw 22\\n'\n",
      "b'Skipping line 925491: expected 15 fields, saw 22\\nSkipping line 938153: expected 15 fields, saw 22\\nSkipping line 950901: expected 15 fields, saw 22\\nSkipping line 959387: expected 15 fields, saw 22\\nSkipping line 960759: expected 15 fields, saw 22\\n'\n",
      "b'Skipping line 1011924: expected 15 fields, saw 22\\nSkipping line 1029952: expected 15 fields, saw 22\\n'\n",
      "b'Skipping line 1052281: expected 15 fields, saw 22\\nSkipping line 1101791: expected 15 fields, saw 22\\nSkipping line 1111307: expected 15 fields, saw 22\\n'\n",
      "b'Skipping line 1154652: expected 15 fields, saw 22\\nSkipping line 1160926: expected 15 fields, saw 22\\n'\n",
      "b'Skipping line 1231416: expected 15 fields, saw 22\\n'\n",
      "b'Skipping line 1260501: expected 15 fields, saw 22\\nSkipping line 1277534: expected 15 fields, saw 22\\nSkipping line 1296369: expected 15 fields, saw 22\\nSkipping line 1307597: expected 15 fields, saw 22\\n'\n",
      "b'Skipping line 1325090: expected 15 fields, saw 22\\nSkipping line 1334579: expected 15 fields, saw 22\\nSkipping line 1334605: expected 15 fields, saw 22\\n'\n",
      "b'Skipping line 1376783: expected 15 fields, saw 22\\nSkipping line 1433258: expected 15 fields, saw 22\\nSkipping line 1434269: expected 15 fields, saw 22\\nSkipping line 1437609: expected 15 fields, saw 22\\nSkipping line 1439772: expected 15 fields, saw 22\\nSkipping line 1439787: expected 15 fields, saw 22\\n'\n",
      "b'Skipping line 1453075: expected 15 fields, saw 22\\nSkipping line 1459700: expected 15 fields, saw 22\\nSkipping line 1464111: expected 15 fields, saw 22\\nSkipping line 1488577: expected 15 fields, saw 22\\n'\n",
      "b'Skipping line 1557764: expected 15 fields, saw 22\\n'\n",
      "b'Skipping line 1578716: expected 15 fields, saw 22\\nSkipping line 1631571: expected 15 fields, saw 22\\n'\n",
      "b'Skipping line 1650716: expected 15 fields, saw 22\\nSkipping line 1652945: expected 15 fields, saw 22\\nSkipping line 1685704: expected 15 fields, saw 22\\nSkipping line 1694353: expected 15 fields, saw 22\\n'\n",
      "b'Skipping line 1730142: expected 15 fields, saw 22\\nSkipping line 1750283: expected 15 fields, saw 22\\nSkipping line 1755827: expected 15 fields, saw 22\\n'\n",
      "b'Skipping line 1771363: expected 15 fields, saw 22\\nSkipping line 1778652: expected 15 fields, saw 22\\nSkipping line 1786040: expected 15 fields, saw 22\\nSkipping line 1811130: expected 15 fields, saw 22\\n'\n",
      "b'Skipping line 1851243: expected 15 fields, saw 22\\nSkipping line 1859576: expected 15 fields, saw 22\\nSkipping line 1873227: expected 15 fields, saw 22\\nSkipping line 1875708: expected 15 fields, saw 22\\nSkipping line 1875744: expected 15 fields, saw 22\\nSkipping line 1876464: expected 15 fields, saw 22\\n'\n",
      "b'Skipping line 1911896: expected 15 fields, saw 22\\nSkipping line 1927903: expected 15 fields, saw 22\\nSkipping line 1956728: expected 15 fields, saw 22\\nSkipping line 1961194: expected 15 fields, saw 22\\nSkipping line 1964795: expected 15 fields, saw 22\\n'\n",
      "b'Skipping line 1972104: expected 15 fields, saw 22\\nSkipping line 1984043: expected 15 fields, saw 22\\nSkipping line 2014391: expected 15 fields, saw 22\\nSkipping line 2028519: expected 15 fields, saw 22\\nSkipping line 2031468: expected 15 fields, saw 22\\n'\n",
      "b'Skipping line 2043552: expected 15 fields, saw 22\\nSkipping line 2055083: expected 15 fields, saw 22\\nSkipping line 2057381: expected 15 fields, saw 22\\nSkipping line 2059594: expected 15 fields, saw 22\\nSkipping line 2062807: expected 15 fields, saw 22\\nSkipping line 2074663: expected 15 fields, saw 22\\nSkipping line 2091271: expected 15 fields, saw 22\\n'\n",
      "b'Skipping line 2141672: expected 15 fields, saw 22\\nSkipping line 2155845: expected 15 fields, saw 22\\n'\n",
      "b'Skipping line 2203178: expected 15 fields, saw 22\\nSkipping line 2213973: expected 15 fields, saw 22\\nSkipping line 2226402: expected 15 fields, saw 22\\n'\n",
      "b'Skipping line 2228466: expected 15 fields, saw 22\\nSkipping line 2240607: expected 15 fields, saw 22\\n'\n",
      "b'Skipping line 2375154: expected 15 fields, saw 22\\nSkipping line 2392796: expected 15 fields, saw 22\\nSkipping line 2418255: expected 15 fields, saw 22\\nSkipping line 2420805: expected 15 fields, saw 22\\nSkipping line 2422512: expected 15 fields, saw 22\\n'\n",
      "b'Skipping line 2456502: expected 15 fields, saw 22\\nSkipping line 2461503: expected 15 fields, saw 22\\n'\n",
      "b'Skipping line 2502272: expected 15 fields, saw 22\\nSkipping line 2508333: expected 15 fields, saw 22\\nSkipping line 2516880: expected 15 fields, saw 22\\nSkipping line 2527783: expected 15 fields, saw 22\\nSkipping line 2554258: expected 15 fields, saw 22\\n'\n",
      "b'Skipping line 2559624: expected 15 fields, saw 22\\nSkipping line 2615834: expected 15 fields, saw 22\\n'\n",
      "b'Skipping line 2649950: expected 15 fields, saw 22\\nSkipping line 2655521: expected 15 fields, saw 22\\nSkipping line 2662038: expected 15 fields, saw 22\\n'\n",
      "b'Skipping line 2704137: expected 15 fields, saw 22\\nSkipping line 2747242: expected 15 fields, saw 22\\nSkipping line 2749072: expected 15 fields, saw 22\\n'\n",
      "b'Skipping line 2769812: expected 15 fields, saw 22\\nSkipping line 2806620: expected 15 fields, saw 22\\n'\n",
      "b'Skipping line 2868142: expected 15 fields, saw 22\\n'\n",
      "b'Skipping line 2928728: expected 15 fields, saw 22\\n'\n",
      "b'Skipping line 3060440: expected 15 fields, saw 22\\nSkipping line 3074844: expected 15 fields, saw 22\\nSkipping line 3078673: expected 15 fields, saw 22\\n'\n",
      "b'Skipping line 3086850: expected 15 fields, saw 22\\nSkipping line 3097846: expected 15 fields, saw 22\\nSkipping line 3108353: expected 15 fields, saw 22\\nSkipping line 3108833: expected 15 fields, saw 22\\nSkipping line 3141546: expected 15 fields, saw 22\\nSkipping line 3141841: expected 15 fields, saw 22\\n'\n",
      "b'Skipping line 3177323: expected 15 fields, saw 22\\n'\n",
      "b'Skipping line 3301495: expected 15 fields, saw 22\\nSkipping line 3303685: expected 15 fields, saw 22\\nSkipping line 3307866: expected 15 fields, saw 22\\nSkipping line 3331179: expected 15 fields, saw 22\\n'\n"
     ]
    },
    {
     "name": "stderr",
     "output_type": "stream",
     "text": [
      "b'Skipping line 3350797: expected 15 fields, saw 22\\nSkipping line 3353129: expected 15 fields, saw 22\\nSkipping line 3359991: expected 15 fields, saw 22\\nSkipping line 3374754: expected 15 fields, saw 22\\nSkipping line 3384256: expected 15 fields, saw 22\\n'\n",
      "b'Skipping line 3466921: expected 15 fields, saw 22\\n'\n",
      "b'Skipping line 3489262: expected 15 fields, saw 22\\nSkipping line 3495576: expected 15 fields, saw 22\\nSkipping line 3523962: expected 15 fields, saw 22\\nSkipping line 3529611: expected 15 fields, saw 22\\nSkipping line 3531020: expected 15 fields, saw 22\\nSkipping line 3536942: expected 15 fields, saw 22\\n'\n",
      "b'Skipping line 3541414: expected 15 fields, saw 22\\nSkipping line 3552928: expected 15 fields, saw 22\\nSkipping line 3586921: expected 15 fields, saw 22\\nSkipping line 3599085: expected 15 fields, saw 22\\n'\n",
      "b'Skipping line 3613803: expected 15 fields, saw 22\\nSkipping line 3615552: expected 15 fields, saw 22\\nSkipping line 3617751: expected 15 fields, saw 22\\nSkipping line 3640481: expected 15 fields, saw 22\\nSkipping line 3665208: expected 15 fields, saw 22\\n'\n",
      "b'Skipping line 3675914: expected 15 fields, saw 22\\n'\n",
      "b'Skipping line 3738934: expected 15 fields, saw 22\\nSkipping line 3744765: expected 15 fields, saw 22\\nSkipping line 3770180: expected 15 fields, saw 22\\nSkipping line 3777748: expected 15 fields, saw 22\\nSkipping line 3780701: expected 15 fields, saw 22\\n'\n",
      "b'Skipping line 3837914: expected 15 fields, saw 22\\nSkipping line 3858205: expected 15 fields, saw 22\\n'\n",
      "b'Skipping line 3917010: expected 15 fields, saw 22\\nSkipping line 3928876: expected 15 fields, saw 22\\n'\n",
      "b'Skipping line 3953578: expected 15 fields, saw 22\\n'\n",
      "b'Skipping line 3998250: expected 15 fields, saw 22\\nSkipping line 4014291: expected 15 fields, saw 22\\n'\n",
      "b'Skipping line 4108511: expected 15 fields, saw 22\\n'\n",
      "b'Skipping line 4159047: expected 15 fields, saw 22\\nSkipping line 4159918: expected 15 fields, saw 22\\n'\n",
      "b'Skipping line 4278132: expected 15 fields, saw 22\\nSkipping line 4280362: expected 15 fields, saw 22\\nSkipping line 4319821: expected 15 fields, saw 22\\n'\n",
      "b'Skipping line 4346435: expected 15 fields, saw 22\\nSkipping line 4352265: expected 15 fields, saw 22\\nSkipping line 4363896: expected 15 fields, saw 22\\nSkipping line 4383897: expected 15 fields, saw 22\\nSkipping line 4385506: expected 15 fields, saw 22\\n'\n",
      "b'Skipping line 4482367: expected 15 fields, saw 22\\nSkipping line 4491605: expected 15 fields, saw 22\\nSkipping line 4520374: expected 15 fields, saw 22\\n'\n",
      "b'Skipping line 4540276: expected 15 fields, saw 22\\nSkipping line 4546846: expected 15 fields, saw 22\\nSkipping line 4572266: expected 15 fields, saw 22\\nSkipping line 4575956: expected 15 fields, saw 22\\n'\n",
      "b'Skipping line 4591310: expected 15 fields, saw 22\\n'\n",
      "b'Skipping line 4689145: expected 15 fields, saw 22\\nSkipping line 4702660: expected 15 fields, saw 22\\nSkipping line 4716887: expected 15 fields, saw 22\\n'\n",
      "b'Skipping line 4735482: expected 15 fields, saw 22\\nSkipping line 4781074: expected 15 fields, saw 22\\n'\n",
      "b'Skipping line 4804591: expected 15 fields, saw 22\\n'\n",
      "b'Skipping line 4990535: expected 15 fields, saw 22\\n'\n",
      "b'Skipping line 5415775: expected 15 fields, saw 22\\n'\n",
      "b'Skipping line 5506042: expected 15 fields, saw 22\\nSkipping line 5522317: expected 15 fields, saw 22\\n'\n",
      "b'Skipping line 5625291: expected 15 fields, saw 22\\n'\n",
      "b'Skipping line 5860345: expected 15 fields, saw 22\\n'\n",
      "b'Skipping line 5939648: expected 15 fields, saw 22\\n'\n",
      "b'Skipping line 6027713: expected 15 fields, saw 22\\n'\n",
      "b'Skipping line 6146975: expected 15 fields, saw 22\\n'\n",
      "b'Skipping line 6388986: expected 15 fields, saw 22\\n'\n",
      "b'Skipping line 7073026: expected 15 fields, saw 22\\n'\n",
      "b'Skipping line 7311194: expected 15 fields, saw 22\\n'\n",
      "b'Skipping line 7952497: expected 15 fields, saw 22\\n'\n",
      "b'Skipping line 8416412: expected 15 fields, saw 22\\n'\n"
     ]
    }
   ],
   "source": [
    "dfAmazon = pd.read_csv('amazon_reviews_us_Wireless_v1_00.tsv.gz', sep='\\t', compression='gzip', error_bad_lines=False)"
   ]
  },
  {
   "cell_type": "code",
   "execution_count": 9,
   "metadata": {},
   "outputs": [
    {
     "data": {
      "text/html": [
       "<div>\n",
       "<style scoped>\n",
       "    .dataframe tbody tr th:only-of-type {\n",
       "        vertical-align: middle;\n",
       "    }\n",
       "\n",
       "    .dataframe tbody tr th {\n",
       "        vertical-align: top;\n",
       "    }\n",
       "\n",
       "    .dataframe thead th {\n",
       "        text-align: right;\n",
       "    }\n",
       "</style>\n",
       "<table border=\"1\" class=\"dataframe\">\n",
       "  <thead>\n",
       "    <tr style=\"text-align: right;\">\n",
       "      <th></th>\n",
       "      <th>marketplace</th>\n",
       "      <th>customer_id</th>\n",
       "      <th>review_id</th>\n",
       "      <th>product_id</th>\n",
       "      <th>product_parent</th>\n",
       "      <th>product_title</th>\n",
       "      <th>product_category</th>\n",
       "      <th>star_rating</th>\n",
       "      <th>helpful_votes</th>\n",
       "      <th>total_votes</th>\n",
       "      <th>vine</th>\n",
       "      <th>verified_purchase</th>\n",
       "      <th>review_headline</th>\n",
       "      <th>review_body</th>\n",
       "      <th>review_date</th>\n",
       "    </tr>\n",
       "  </thead>\n",
       "  <tbody>\n",
       "    <tr>\n",
       "      <th>0</th>\n",
       "      <td>US</td>\n",
       "      <td>16414143</td>\n",
       "      <td>R3W4P9UBGNGH1U</td>\n",
       "      <td>B00YL0EKWE</td>\n",
       "      <td>852431543</td>\n",
       "      <td>LG G4 Case Hard Transparent Slim Clear Cover f...</td>\n",
       "      <td>Wireless</td>\n",
       "      <td>2</td>\n",
       "      <td>1.0</td>\n",
       "      <td>3.0</td>\n",
       "      <td>N</td>\n",
       "      <td>Y</td>\n",
       "      <td>Looks good, functions meh</td>\n",
       "      <td>2 issues  -  Once I turned on the circle apps ...</td>\n",
       "      <td>2015-08-31</td>\n",
       "    </tr>\n",
       "    <tr>\n",
       "      <th>1</th>\n",
       "      <td>US</td>\n",
       "      <td>50800750</td>\n",
       "      <td>R15V54KBMTQWAY</td>\n",
       "      <td>B00XK95RPQ</td>\n",
       "      <td>516894650</td>\n",
       "      <td>Selfie Stick Fiblastiq&amp;trade; Extendable Wirel...</td>\n",
       "      <td>Wireless</td>\n",
       "      <td>4</td>\n",
       "      <td>0.0</td>\n",
       "      <td>0.0</td>\n",
       "      <td>N</td>\n",
       "      <td>N</td>\n",
       "      <td>A fun little gadget</td>\n",
       "      <td>I’m embarrassed to admit that until recently, ...</td>\n",
       "      <td>2015-08-31</td>\n",
       "    </tr>\n",
       "    <tr>\n",
       "      <th>2</th>\n",
       "      <td>US</td>\n",
       "      <td>15184378</td>\n",
       "      <td>RY8I449HNXSVF</td>\n",
       "      <td>B00SXRXUKO</td>\n",
       "      <td>984297154</td>\n",
       "      <td>Tribe AB40 Water Resistant Sports Armband with...</td>\n",
       "      <td>Wireless</td>\n",
       "      <td>5</td>\n",
       "      <td>0.0</td>\n",
       "      <td>0.0</td>\n",
       "      <td>N</td>\n",
       "      <td>Y</td>\n",
       "      <td>Five Stars</td>\n",
       "      <td>Fits iPhone 6 well</td>\n",
       "      <td>2015-08-31</td>\n",
       "    </tr>\n",
       "    <tr>\n",
       "      <th>3</th>\n",
       "      <td>US</td>\n",
       "      <td>10203548</td>\n",
       "      <td>R18TLJYCKJFLSR</td>\n",
       "      <td>B009V5X1CE</td>\n",
       "      <td>279912704</td>\n",
       "      <td>RAVPower® Element 10400mAh External Battery US...</td>\n",
       "      <td>Wireless</td>\n",
       "      <td>5</td>\n",
       "      <td>0.0</td>\n",
       "      <td>0.0</td>\n",
       "      <td>N</td>\n",
       "      <td>Y</td>\n",
       "      <td>Great charger</td>\n",
       "      <td>Great charger.  I easily get 3+ charges on a S...</td>\n",
       "      <td>2015-08-31</td>\n",
       "    </tr>\n",
       "    <tr>\n",
       "      <th>4</th>\n",
       "      <td>US</td>\n",
       "      <td>488280</td>\n",
       "      <td>R1NK26SWS53B8Q</td>\n",
       "      <td>B00D93OVF0</td>\n",
       "      <td>662791300</td>\n",
       "      <td>Fosmon Micro USB Value Pack Bundle for Samsung...</td>\n",
       "      <td>Wireless</td>\n",
       "      <td>5</td>\n",
       "      <td>0.0</td>\n",
       "      <td>0.0</td>\n",
       "      <td>N</td>\n",
       "      <td>Y</td>\n",
       "      <td>Five Stars</td>\n",
       "      <td>Great for the price :-)</td>\n",
       "      <td>2015-08-31</td>\n",
       "    </tr>\n",
       "  </tbody>\n",
       "</table>\n",
       "</div>"
      ],
      "text/plain": [
       "  marketplace  customer_id       review_id  product_id  product_parent  \\\n",
       "0          US     16414143  R3W4P9UBGNGH1U  B00YL0EKWE       852431543   \n",
       "1          US     50800750  R15V54KBMTQWAY  B00XK95RPQ       516894650   \n",
       "2          US     15184378   RY8I449HNXSVF  B00SXRXUKO       984297154   \n",
       "3          US     10203548  R18TLJYCKJFLSR  B009V5X1CE       279912704   \n",
       "4          US       488280  R1NK26SWS53B8Q  B00D93OVF0       662791300   \n",
       "\n",
       "                                       product_title product_category  \\\n",
       "0  LG G4 Case Hard Transparent Slim Clear Cover f...         Wireless   \n",
       "1  Selfie Stick Fiblastiq&trade; Extendable Wirel...         Wireless   \n",
       "2  Tribe AB40 Water Resistant Sports Armband with...         Wireless   \n",
       "3  RAVPower® Element 10400mAh External Battery US...         Wireless   \n",
       "4  Fosmon Micro USB Value Pack Bundle for Samsung...         Wireless   \n",
       "\n",
       "  star_rating  helpful_votes  total_votes vine verified_purchase  \\\n",
       "0           2            1.0          3.0    N                 Y   \n",
       "1           4            0.0          0.0    N                 N   \n",
       "2           5            0.0          0.0    N                 Y   \n",
       "3           5            0.0          0.0    N                 Y   \n",
       "4           5            0.0          0.0    N                 Y   \n",
       "\n",
       "             review_headline  \\\n",
       "0  Looks good, functions meh   \n",
       "1        A fun little gadget   \n",
       "2                 Five Stars   \n",
       "3              Great charger   \n",
       "4                 Five Stars   \n",
       "\n",
       "                                         review_body review_date  \n",
       "0  2 issues  -  Once I turned on the circle apps ...  2015-08-31  \n",
       "1  I’m embarrassed to admit that until recently, ...  2015-08-31  \n",
       "2                                 Fits iPhone 6 well  2015-08-31  \n",
       "3  Great charger.  I easily get 3+ charges on a S...  2015-08-31  \n",
       "4                            Great for the price :-)  2015-08-31  "
      ]
     },
     "execution_count": 9,
     "metadata": {},
     "output_type": "execute_result"
    }
   ],
   "source": [
    "dfAmazon.head()"
   ]
  },
  {
   "cell_type": "code",
   "execution_count": 10,
   "metadata": {},
   "outputs": [
    {
     "data": {
      "text/plain": [
       "(8991589, 15)"
      ]
     },
     "execution_count": 10,
     "metadata": {},
     "output_type": "execute_result"
    }
   ],
   "source": [
    "dfAmazon.shape"
   ]
  },
  {
   "cell_type": "code",
   "execution_count": 11,
   "metadata": {},
   "outputs": [
    {
     "data": {
      "text/plain": [
       "marketplace            0\n",
       "customer_id            0\n",
       "review_id              0\n",
       "product_id             0\n",
       "product_parent         0\n",
       "product_title          0\n",
       "product_category       0\n",
       "star_rating          106\n",
       "helpful_votes        110\n",
       "total_votes          110\n",
       "vine                 110\n",
       "verified_purchase    110\n",
       "review_headline      200\n",
       "review_body          648\n",
       "review_date          151\n",
       "dtype: int64"
      ]
     },
     "execution_count": 11,
     "metadata": {},
     "output_type": "execute_result"
    }
   ],
   "source": [
    "dfAmazon.isnull().sum()"
   ]
  },
  {
   "cell_type": "code",
   "execution_count": 12,
   "metadata": {},
   "outputs": [],
   "source": [
    "dfAmazon.dropna(subset=['star_rating', 'review_body'], inplace=True)"
   ]
  },
  {
   "cell_type": "code",
   "execution_count": 13,
   "metadata": {},
   "outputs": [
    {
     "data": {
      "text/plain": [
       "marketplace           0\n",
       "customer_id           0\n",
       "review_id             0\n",
       "product_id            0\n",
       "product_parent        0\n",
       "product_title         0\n",
       "product_category      0\n",
       "star_rating           0\n",
       "helpful_votes         0\n",
       "total_votes           0\n",
       "vine                  0\n",
       "verified_purchase     0\n",
       "review_headline      89\n",
       "review_body           0\n",
       "review_date          41\n",
       "dtype: int64"
      ]
     },
     "execution_count": 13,
     "metadata": {},
     "output_type": "execute_result"
    }
   ],
   "source": [
    "dfAmazon.isnull().sum()"
   ]
  },
  {
   "cell_type": "code",
   "execution_count": 14,
   "metadata": {},
   "outputs": [],
   "source": [
    "amazonReviews = dfAmazon[['star_rating', 'review_body']].copy()"
   ]
  },
  {
   "cell_type": "code",
   "execution_count": 15,
   "metadata": {},
   "outputs": [
    {
     "data": {
      "text/html": [
       "<div>\n",
       "<style scoped>\n",
       "    .dataframe tbody tr th:only-of-type {\n",
       "        vertical-align: middle;\n",
       "    }\n",
       "\n",
       "    .dataframe tbody tr th {\n",
       "        vertical-align: top;\n",
       "    }\n",
       "\n",
       "    .dataframe thead th {\n",
       "        text-align: right;\n",
       "    }\n",
       "</style>\n",
       "<table border=\"1\" class=\"dataframe\">\n",
       "  <thead>\n",
       "    <tr style=\"text-align: right;\">\n",
       "      <th></th>\n",
       "      <th>star_rating</th>\n",
       "      <th>review_body</th>\n",
       "    </tr>\n",
       "  </thead>\n",
       "  <tbody>\n",
       "    <tr>\n",
       "      <th>8991584</th>\n",
       "      <td>4</td>\n",
       "      <td>We train search and rescue dogs in Colorado an...</td>\n",
       "    </tr>\n",
       "    <tr>\n",
       "      <th>8991585</th>\n",
       "      <td>5</td>\n",
       "      <td>I have had the BC245XLT for almost a week now....</td>\n",
       "    </tr>\n",
       "    <tr>\n",
       "      <th>8991586</th>\n",
       "      <td>4</td>\n",
       "      <td>I brought my Gramin GPS II last month.  The fe...</td>\n",
       "    </tr>\n",
       "    <tr>\n",
       "      <th>8991587</th>\n",
       "      <td>5</td>\n",
       "      <td>I made a 4 day, 3 night solo hike in Big Bend ...</td>\n",
       "    </tr>\n",
       "    <tr>\n",
       "      <th>8991588</th>\n",
       "      <td>4</td>\n",
       "      <td>The Garmin GPS II, II Plus, and III are all ex...</td>\n",
       "    </tr>\n",
       "  </tbody>\n",
       "</table>\n",
       "</div>"
      ],
      "text/plain": [
       "        star_rating                                        review_body\n",
       "8991584           4  We train search and rescue dogs in Colorado an...\n",
       "8991585           5  I have had the BC245XLT for almost a week now....\n",
       "8991586           4  I brought my Gramin GPS II last month.  The fe...\n",
       "8991587           5  I made a 4 day, 3 night solo hike in Big Bend ...\n",
       "8991588           4  The Garmin GPS II, II Plus, and III are all ex..."
      ]
     },
     "execution_count": 15,
     "metadata": {},
     "output_type": "execute_result"
    }
   ],
   "source": [
    "amazonReviews.tail()"
   ]
  },
  {
   "cell_type": "markdown",
   "metadata": {},
   "source": [
    "## Preprocessing"
   ]
  },
  {
   "cell_type": "code",
   "execution_count": 16,
   "metadata": {},
   "outputs": [
    {
     "name": "stdout",
     "output_type": "stream",
     "text": [
      "We train search and rescue dogs in Colorado and map griding is extremely important to what we do.  We use this little puppy on a regular basis and it is quite accurate.<br />The down side is as already mentioned, low cell  life.  So carry an extra cell and you should be fine.\n"
     ]
    }
   ],
   "source": [
    "sample_text = amazonReviews.loc[8991584]['review_body']\n",
    "\n",
    "print(sample_text)"
   ]
  },
  {
   "cell_type": "code",
   "execution_count": 17,
   "metadata": {},
   "outputs": [],
   "source": [
    "def preprocess(sample_text):\n",
    "    sample_text = sample_text.lower()      # Normalize casing\n",
    "    sample_text = re.sub(r'\\d+', '', sample_text)    # Replaces any digit occurence with a space (' ') \n",
    "    sample_text = sample_text.translate(str.maketrans('', '', string.punctuation))   # Strips punctuations\n",
    "    sample_text = sample_text.strip()    # Trims whitespace at the start and end\n",
    "    return sample_text"
   ]
  },
  {
   "cell_type": "code",
   "execution_count": 18,
   "metadata": {},
   "outputs": [
    {
     "name": "stdout",
     "output_type": "stream",
     "text": [
      "we train search and rescue dogs in colorado and map griding is extremely important to what we do  we use this little puppy on a regular basis and it is quite accuratebr the down side is as already mentioned low cell  life  so carry an extra cell and you should be fine\n"
     ]
    }
   ],
   "source": [
    "processed_text = preprocess(sample_text)\n",
    "print(processed_text)"
   ]
  },
  {
   "cell_type": "markdown",
   "metadata": {},
   "source": [
    "## Tokenization"
   ]
  },
  {
   "cell_type": "code",
   "execution_count": 19,
   "metadata": {},
   "outputs": [
    {
     "data": {
      "text/plain": [
       "['We train search and rescue dogs in Colorado and map griding is extremely important to what we do.',\n",
       " 'We use this little puppy on a regular basis and it is quite accurate.<br />The down side is as already mentioned, low cell  life.',\n",
       " 'So carry an extra cell and you should be fine.']"
      ]
     },
     "execution_count": 19,
     "metadata": {},
     "output_type": "execute_result"
    }
   ],
   "source": [
    "# Sentence Tokenization\n",
    "sent_token = nltk.tokenize.sent_tokenize(sample_text)\n",
    "sent_token"
   ]
  },
  {
   "cell_type": "code",
   "execution_count": 20,
   "metadata": {
    "scrolled": true
   },
   "outputs": [
    {
     "data": {
      "text/plain": [
       "['we',\n",
       " 'train',\n",
       " 'search',\n",
       " 'and',\n",
       " 'rescue',\n",
       " 'dogs',\n",
       " 'in',\n",
       " 'colorado',\n",
       " 'and',\n",
       " 'map',\n",
       " 'griding',\n",
       " 'is',\n",
       " 'extremely',\n",
       " 'important',\n",
       " 'to',\n",
       " 'what',\n",
       " 'we',\n",
       " 'do',\n",
       " 'we',\n",
       " 'use',\n",
       " 'this',\n",
       " 'little',\n",
       " 'puppy',\n",
       " 'on',\n",
       " 'a',\n",
       " 'regular',\n",
       " 'basis',\n",
       " 'and',\n",
       " 'it',\n",
       " 'is',\n",
       " 'quite',\n",
       " 'accuratebr',\n",
       " 'the',\n",
       " 'down',\n",
       " 'side',\n",
       " 'is',\n",
       " 'as',\n",
       " 'already',\n",
       " 'mentioned',\n",
       " 'low',\n",
       " 'cell',\n",
       " 'life',\n",
       " 'so',\n",
       " 'carry',\n",
       " 'an',\n",
       " 'extra',\n",
       " 'cell',\n",
       " 'and',\n",
       " 'you',\n",
       " 'should',\n",
       " 'be',\n",
       " 'fine']"
      ]
     },
     "execution_count": 20,
     "metadata": {},
     "output_type": "execute_result"
    }
   ],
   "source": [
    "# Word tokenization\n",
    "word_token = nltk.tokenize.word_tokenize(processed_text)\n",
    "word_token"
   ]
  },
  {
   "cell_type": "markdown",
   "metadata": {},
   "source": [
    "## Sample analysis"
   ]
  },
  {
   "cell_type": "code",
   "execution_count": 21,
   "metadata": {},
   "outputs": [],
   "source": [
    "# Get the frequency distribution\n",
    "fdist = nltk.probability.FreqDist(word_token)"
   ]
  },
  {
   "cell_type": "code",
   "execution_count": 22,
   "metadata": {},
   "outputs": [
    {
     "data": {
      "text/plain": [
       "[('and', 4), ('we', 3)]"
      ]
     },
     "execution_count": 22,
     "metadata": {},
     "output_type": "execute_result"
    }
   ],
   "source": [
    "fdist.most_common(2)"
   ]
  },
  {
   "cell_type": "code",
   "execution_count": 24,
   "metadata": {},
   "outputs": [
    {
     "data": {
      "image/png": "[encoded data removed]",
      "text/plain": [
       "<Figure size 1000x800 with 1 Axes>"
      ]
     },
     "metadata": {
      "needs_background": "light"
     },
     "output_type": "display_data"
    }
   ],
   "source": [
    "fig, ax = plt.subplots(figsize = (10,8), dpi = 100)\n",
    "fdist.plot(30, cumulative = False)\n",
    "plt.show()"
   ]
  },
  {
   "cell_type": "code",
   "execution_count": 26,
   "metadata": {},
   "outputs": [
    {
     "name": "stdout",
     "output_type": "stream",
     "text": [
      "{'of', 'while', 'too', 'him', 'have', \"you'd\", \"didn't\", 'wouldn', 'why', 'before', 'both', \"couldn't\", 'there', 'your', \"you'll\", 'needn', 'above', 'it', 'you', 'only', 'very', 'shan', 'doing', 'from', 'couldn', 'and', 'a', 'between', 'than', 'are', 'be', \"hadn't\", 'aren', 'with', 'again', \"that'll\", 'doesn', 'didn', 'will', 'its', 'when', 'y', 'most', 'if', 'yourself', 't', 'now', 'they', 'which', 'just', 'few', \"won't\", \"wouldn't\", 'at', 'hadn', 'wasn', 'after', 'an', 'ma', 'where', 'but', 'shouldn', 'has', 'yours', 'her', 'mustn', 'own', 'been', \"aren't\", 'their', 'each', \"should've\", \"isn't\", 'under', \"shan't\", 'ours', 'as', \"mustn't\", 'such', \"it's\", 'any', 'through', \"mightn't\", 'these', 'so', 'all', 'over', 'won', 'against', 'whom', 'the', 'who', 'them', 'to', 'haven', 'mightn', 'then', 'she', \"you're\", \"you've\", 'for', 'was', 'herself', 'no', 'what', 're', \"weren't\", 'ourselves', 'or', 'can', 'we', 'being', \"don't\", 'here', 'o', 'ain', 'in', 'weren', 'itself', 'do', 'until', 'am', 'below', 'he', \"doesn't\", \"wasn't\", 'm', 'some', 'those', 'nor', 'don', 'not', \"needn't\", 'does', 'into', \"hasn't\", 'i', 'other', 'theirs', 'having', 'did', 'off', 's', 'isn', 'more', 'by', 'on', 'our', 'me', 've', \"she's\", \"shouldn't\", 'is', \"haven't\", 'same', 'hasn', 'this', 'my', 'himself', 'about', 'during', 'should', 'hers', 'were', 'that', 'down', 'how', 'further', 'myself', 'had', 'themselves', 'd', 'up', 'yourselves', 'll', 'once', 'his', 'because', 'out'}\n"
     ]
    }
   ],
   "source": [
    "# Stopwords\n",
    "stop_words = set(nltk.corpus.stopwords.words('english'))\n",
    "print(stop_words)"
   ]
  },
  {
   "cell_type": "code",
   "execution_count": 27,
   "metadata": {},
   "outputs": [
    {
     "name": "stdout",
     "output_type": "stream",
     "text": [
      "Tokenized Sentence: ['we', 'train', 'search', 'and', 'rescue', 'dogs', 'in', 'colorado', 'and', 'map', 'griding', 'is', 'extremely', 'important', 'to', 'what', 'we', 'do', 'we', 'use', 'this', 'little', 'puppy', 'on', 'a', 'regular', 'basis', 'and', 'it', 'is', 'quite', 'accuratebr', 'the', 'down', 'side', 'is', 'as', 'already', 'mentioned', 'low', 'cell', 'life', 'so', 'carry', 'an', 'extra', 'cell', 'and', 'you', 'should', 'be', 'fine'] \n",
      "\n",
      "Filtered Sentence: ['train', 'search', 'rescue', 'dogs', 'colorado', 'map', 'griding', 'extremely', 'important', 'use', 'little', 'puppy', 'regular', 'basis', 'quite', 'accuratebr', 'side', 'already', 'mentioned', 'low', 'cell', 'life', 'carry', 'extra', 'cell', 'fine']\n"
     ]
    }
   ],
   "source": [
    "sent_filtered = [w for w in word_token if w not in stop_words]\n",
    "\n",
    "print('Tokenized Sentence:', word_token, '\\n')\n",
    "print('Filtered Sentence:', sent_filtered)"
   ]
  },
  {
   "cell_type": "code",
   "execution_count": 28,
   "metadata": {},
   "outputs": [
    {
     "data": {
      "image/png": "[encoded data removed]",
      "text/plain": [
       "<Figure size 1000x800 with 1 Axes>"
      ]
     },
     "metadata": {
      "needs_background": "light"
     },
     "output_type": "display_data"
    }
   ],
   "source": [
    "fig, ax = plt.subplots(figsize = (10,8), dpi = 100)\n",
    "fdist = nltk.probability.FreqDist(sent_filtered)\n",
    "\n",
    "fdist.plot(30, cumulative=False)\n",
    "plt.show()"
   ]
  },
  {
   "cell_type": "markdown",
   "metadata": {},
   "source": [
    "## Sentiment analysis with Vader"
   ]
  },
  {
   "cell_type": "code",
   "execution_count": 29,
   "metadata": {},
   "outputs": [],
   "source": [
    "from vaderSentiment.vaderSentiment import SentimentIntensityAnalyzer\n",
    "analyser = SentimentIntensityAnalyzer()"
   ]
  },
  {
   "cell_type": "code",
   "execution_count": 30,
   "metadata": {},
   "outputs": [],
   "source": [
    "def sentiment_analyzer_scores(sentence):\n",
    "    score = analyser.polarity_scores(sentence)\n",
    "    print(\"{:-<40} {}\".format(sentence, str(score)))"
   ]
  },
  {
   "cell_type": "code",
   "execution_count": 54,
   "metadata": {},
   "outputs": [],
   "source": [
    "df = pd.DataFrame({'Sentence': sent_token})\n",
    "df_sentiment = pd.DataFrame()\n",
    "\n",
    "for sent in sent_token:\n",
    "    temp = pd.DataFrame([analyser.polarity_scores(sent)])\n",
    "    df_sentiment = pd.concat((df_sentiment, temp), axis = 0)\n",
    "    \n",
    "df = pd.concat((df, df_sentiment.reset_index().drop('index', axis = 1)), axis = 1)"
   ]
  },
  {
   "cell_type": "code",
   "execution_count": 59,
   "metadata": {},
   "outputs": [
    {
     "data": {
      "text/html": [
       "<style  type=\"text/css\" >\n",
       "    #T_205b8a22_d366_11ea_a996_94b86d0da2a9row0_col0 {\n",
       "            max-width:  1000px;\n",
       "            font-size:  9pt;\n",
       "        }    #T_205b8a22_d366_11ea_a996_94b86d0da2a9row0_col1 {\n",
       "            max-width:  1000px;\n",
       "            font-size:  9pt;\n",
       "        }    #T_205b8a22_d366_11ea_a996_94b86d0da2a9row0_col2 {\n",
       "            max-width:  1000px;\n",
       "            font-size:  9pt;\n",
       "        }    #T_205b8a22_d366_11ea_a996_94b86d0da2a9row0_col3 {\n",
       "            max-width:  1000px;\n",
       "            font-size:  9pt;\n",
       "        }    #T_205b8a22_d366_11ea_a996_94b86d0da2a9row0_col4 {\n",
       "            max-width:  1000px;\n",
       "            font-size:  9pt;\n",
       "        }    #T_205b8a22_d366_11ea_a996_94b86d0da2a9row1_col0 {\n",
       "            max-width:  1000px;\n",
       "            font-size:  9pt;\n",
       "        }    #T_205b8a22_d366_11ea_a996_94b86d0da2a9row1_col1 {\n",
       "            max-width:  1000px;\n",
       "            font-size:  9pt;\n",
       "        }    #T_205b8a22_d366_11ea_a996_94b86d0da2a9row1_col2 {\n",
       "            max-width:  1000px;\n",
       "            font-size:  9pt;\n",
       "        }    #T_205b8a22_d366_11ea_a996_94b86d0da2a9row1_col3 {\n",
       "            max-width:  1000px;\n",
       "            font-size:  9pt;\n",
       "        }    #T_205b8a22_d366_11ea_a996_94b86d0da2a9row1_col4 {\n",
       "            max-width:  1000px;\n",
       "            font-size:  9pt;\n",
       "        }    #T_205b8a22_d366_11ea_a996_94b86d0da2a9row2_col0 {\n",
       "            max-width:  1000px;\n",
       "            font-size:  9pt;\n",
       "        }    #T_205b8a22_d366_11ea_a996_94b86d0da2a9row2_col1 {\n",
       "            max-width:  1000px;\n",
       "            font-size:  9pt;\n",
       "        }    #T_205b8a22_d366_11ea_a996_94b86d0da2a9row2_col2 {\n",
       "            max-width:  1000px;\n",
       "            font-size:  9pt;\n",
       "        }    #T_205b8a22_d366_11ea_a996_94b86d0da2a9row2_col3 {\n",
       "            max-width:  1000px;\n",
       "            font-size:  9pt;\n",
       "        }    #T_205b8a22_d366_11ea_a996_94b86d0da2a9row2_col4 {\n",
       "            max-width:  1000px;\n",
       "            font-size:  9pt;\n",
       "        }</style><table id=\"T_205b8a22_d366_11ea_a996_94b86d0da2a9\" ><thead>    <tr>        <th class=\"blank level0\" ></th>        <th class=\"col_heading level0 col0\" >Sentence</th>        <th class=\"col_heading level0 col1\" >compound</th>        <th class=\"col_heading level0 col2\" >neg</th>        <th class=\"col_heading level0 col3\" >neu</th>        <th class=\"col_heading level0 col4\" >pos</th>    </tr></thead><tbody>\n",
       "                <tr>\n",
       "                        <th id=\"T_205b8a22_d366_11ea_a996_94b86d0da2a9level0_row0\" class=\"row_heading level0 row0\" >0</th>\n",
       "                        <td id=\"T_205b8a22_d366_11ea_a996_94b86d0da2a9row0_col0\" class=\"data row0 col0\" >We train search and rescue dogs in Colorado and map griding is extremely important to what we do.</td>\n",
       "                        <td id=\"T_205b8a22_d366_11ea_a996_94b86d0da2a9row0_col1\" class=\"data row0 col1\" >0.659</td>\n",
       "                        <td id=\"T_205b8a22_d366_11ea_a996_94b86d0da2a9row0_col2\" class=\"data row0 col2\" >0</td>\n",
       "                        <td id=\"T_205b8a22_d366_11ea_a996_94b86d0da2a9row0_col3\" class=\"data row0 col3\" >0.748</td>\n",
       "                        <td id=\"T_205b8a22_d366_11ea_a996_94b86d0da2a9row0_col4\" class=\"data row0 col4\" >0.252</td>\n",
       "            </tr>\n",
       "            <tr>\n",
       "                        <th id=\"T_205b8a22_d366_11ea_a996_94b86d0da2a9level0_row1\" class=\"row_heading level0 row1\" >1</th>\n",
       "                        <td id=\"T_205b8a22_d366_11ea_a996_94b86d0da2a9row1_col0\" class=\"data row1 col0\" >We use this little puppy on a regular basis and it is quite accurate.<br />The down side is as already mentioned, low cell  life.</td>\n",
       "                        <td id=\"T_205b8a22_d366_11ea_a996_94b86d0da2a9row1_col1\" class=\"data row1 col1\" >-0.2732</td>\n",
       "                        <td id=\"T_205b8a22_d366_11ea_a996_94b86d0da2a9row1_col2\" class=\"data row1 col2\" >0.084</td>\n",
       "                        <td id=\"T_205b8a22_d366_11ea_a996_94b86d0da2a9row1_col3\" class=\"data row1 col3\" >0.916</td>\n",
       "                        <td id=\"T_205b8a22_d366_11ea_a996_94b86d0da2a9row1_col4\" class=\"data row1 col4\" >0</td>\n",
       "            </tr>\n",
       "            <tr>\n",
       "                        <th id=\"T_205b8a22_d366_11ea_a996_94b86d0da2a9level0_row2\" class=\"row_heading level0 row2\" >2</th>\n",
       "                        <td id=\"T_205b8a22_d366_11ea_a996_94b86d0da2a9row2_col0\" class=\"data row2 col0\" >So carry an extra cell and you should be fine.</td>\n",
       "                        <td id=\"T_205b8a22_d366_11ea_a996_94b86d0da2a9row2_col1\" class=\"data row2 col1\" >0.2023</td>\n",
       "                        <td id=\"T_205b8a22_d366_11ea_a996_94b86d0da2a9row2_col2\" class=\"data row2 col2\" >0</td>\n",
       "                        <td id=\"T_205b8a22_d366_11ea_a996_94b86d0da2a9row2_col3\" class=\"data row2 col3\" >0.833</td>\n",
       "                        <td id=\"T_205b8a22_d366_11ea_a996_94b86d0da2a9row2_col4\" class=\"data row2 col4\" >0.167</td>\n",
       "            </tr>\n",
       "    </tbody></table>"
      ],
      "text/plain": [
       "<pandas.io.formats.style.Styler at 0x2427d1ff0b8>"
      ]
     },
     "execution_count": 59,
     "metadata": {},
     "output_type": "execute_result"
    }
   ],
   "source": [
    "df.style.set_properties(**{'max-width': '1000px', 'font-size': '9pt'})\\"
   ]
  },
  {
   "cell_type": "code",
   "execution_count": 65,
   "metadata": {},
   "outputs": [
    {
     "data": {
      "text/plain": [
       "0.19603333333333336"
      ]
     },
     "execution_count": 65,
     "metadata": {},
     "output_type": "execute_result"
    }
   ],
   "source": [
    "df['compound'].mean()"
   ]
  },
  {
   "cell_type": "markdown",
   "metadata": {},
   "source": [
    "# Translation"
   ]
  },
  {
   "cell_type": "code",
   "execution_count": 116,
   "metadata": {},
   "outputs": [],
   "source": [
    "import jieba.posseg as pseg\n",
    "import jieba\n",
    "import jieba.analyse"
   ]
  },
  {
   "cell_type": "markdown",
   "metadata": {},
   "source": [
    "## Load the data"
   ]
  },
  {
   "cell_type": "code",
   "execution_count": 114,
   "metadata": {},
   "outputs": [],
   "source": [
    "temp = pd.read_csv('Bi-Spoken.txt', sep=\"\\n\", header=None)[0:100]\n",
    "df_translate = pd.DataFrame(index=range(0,int(len(temp)/2)))\n",
    "\n",
    "df_translate = temp.iloc[1::2].reset_index().drop('index', axis = 1)\n",
    "df_translate = pd.concat((df_translate, temp.iloc[::2].reset_index().drop('index', axis = 1)), axis = 1)\n",
    "df_translate.columns = ['Chinese', 'English']"
   ]
  },
  {
   "cell_type": "code",
   "execution_count": 117,
   "metadata": {},
   "outputs": [
    {
     "data": {
      "text/html": [
       "<div>\n",
       "<style scoped>\n",
       "    .dataframe tbody tr th:only-of-type {\n",
       "        vertical-align: middle;\n",
       "    }\n",
       "\n",
       "    .dataframe tbody tr th {\n",
       "        vertical-align: top;\n",
       "    }\n",
       "\n",
       "    .dataframe thead th {\n",
       "        text-align: right;\n",
       "    }\n",
       "</style>\n",
       "<table border=\"1\" class=\"dataframe\">\n",
       "  <thead>\n",
       "    <tr style=\"text-align: right;\">\n",
       "      <th></th>\n",
       "      <th>Chinese</th>\n",
       "      <th>English</th>\n",
       "    </tr>\n",
       "  </thead>\n",
       "  <tbody>\n",
       "    <tr>\n",
       "      <th>0</th>\n",
       "      <td>你认为你的书面英语和口语熟练程度如何？</td>\n",
       "      <td>How do you think of your proficiency in writte...</td>\n",
       "    </tr>\n",
       "    <tr>\n",
       "      <th>1</th>\n",
       "      <td>她的英语口语不是十分好，可她的意思可以理解得很清楚。</td>\n",
       "      <td>Her spoken English is not very good, but her m...</td>\n",
       "    </tr>\n",
       "    <tr>\n",
       "      <th>2</th>\n",
       "      <td>天空中飘着几朵云，但阳光灿烂。</td>\n",
       "      <td>There are some clouds in the sky,but the sun i...</td>\n",
       "    </tr>\n",
       "    <tr>\n",
       "      <th>3</th>\n",
       "      <td>我和妻子沿河岸走着。</td>\n",
       "      <td>My wife and I are walking along the banks of t...</td>\n",
       "    </tr>\n",
       "    <tr>\n",
       "      <th>4</th>\n",
       "      <td>萨姆：你打算如何处理那共瓶？</td>\n",
       "      <td>SAM: What are you going to do with that vase, ...</td>\n",
       "    </tr>\n",
       "  </tbody>\n",
       "</table>\n",
       "</div>"
      ],
      "text/plain": [
       "                      Chinese  \\\n",
       "0         你认为你的书面英语和口语熟练程度如何？   \n",
       "1  她的英语口语不是十分好，可她的意思可以理解得很清楚。   \n",
       "2             天空中飘着几朵云，但阳光灿烂。   \n",
       "3                  我和妻子沿河岸走着。   \n",
       "4              萨姆：你打算如何处理那共瓶？   \n",
       "\n",
       "                                             English  \n",
       "0  How do you think of your proficiency in writte...  \n",
       "1  Her spoken English is not very good, but her m...  \n",
       "2  There are some clouds in the sky,but the sun i...  \n",
       "3  My wife and I are walking along the banks of t...  \n",
       "4  SAM: What are you going to do with that vase, ...  "
      ]
     },
     "execution_count": 117,
     "metadata": {},
     "output_type": "execute_result"
    }
   ],
   "source": [
    "df_translate.head()"
   ]
  },
  {
   "cell_type": "markdown",
   "metadata": {},
   "source": [
    "## Loading word embeddings from fasttext"
   ]
  },
  {
   "cell_type": "code",
   "execution_count": 3,
   "metadata": {},
   "outputs": [],
   "source": [
    "def load_vectors(embedding_path):\n",
    "    fin = io.open(embedding_path + '.vec', 'r', encoding='utf-8', newline='\\n', errors='ignore')\n",
    "    n, d = map(int, fin.readline().split())\n",
    "    print(n,d)\n",
    "    words = []\n",
    "    vectors = np.zeros((n,d))\n",
    "    data = {}\n",
    "    for idx, line in enumerate(fin):\n",
    "        tokens = line.rstrip().split(' ')\n",
    "        words.append(tokens[0])\n",
    "        vectors[idx,:] += [float(val) for val in tokens[1:]]\n",
    "#         data[tokens[0]] = map(float, tokens[1:])\n",
    "        if idx % 10000 == 0:\n",
    "            print('.', end = ' ')\n",
    "    np.save(embedding_path + \".npy\", vectors)\n",
    "    with open(embedding_path + \".txt\", 'w', encoding='utf-8') as output:\n",
    "        for row in words:\n",
    "            output.write(row + '\\n')\n",
    "    return words, vectors"
   ]
  },
  {
   "cell_type": "code",
   "execution_count": 11,
   "metadata": {},
   "outputs": [
    {
     "name": "stdout",
     "output_type": "stream",
     "text": [
      "2000000 300\n",
      ". . . . . . . . . . . . . . . . . . . . . . . . . . . . . . . . . . . . . . . . . . . . . . . . . . . . . . . . . . . . . . . . . . . . . . . . . . . . . . . . . . . . . . . . . . . . . . . . . . . . . . . . . . . . . . . . . . . . . . . . . . . . . . . . . . . . . . . . . . . . . . . . . . . . . . . . . . . . . . . . . . . . . . . . . . . . . . . . . . . . . . . . . . . . . . . . . . . . . . . . "
     ]
    }
   ],
   "source": [
    "en_words, en_tokens = load_vectors('cc.en.300')"
   ]
  },
  {
   "cell_type": "code",
   "execution_count": 45,
   "metadata": {},
   "outputs": [
    {
     "name": "stdout",
     "output_type": "stream",
     "text": [
      "2000000 300\n",
      ". . . . . . . . . . . . . . . . . . . . . . . . . . . . . . . . . . . . . . . . . . . . . . . . . . . . . . . . . . . . . . . . . . . . . . . . . . . . . . . . . . . . . . . . . . . . . . . . . . . . . . . . . . . . . . . . . . . . . . . . . . . . . . . . . . . . . . . . . . . . . . . . . . . . . . . . . . . . . . . . . . . . . . . . . . . . . . . . . . . . . . . . . . . . . . . . . . . . . . . . "
     ]
    }
   ],
   "source": [
    "zh_words, zh_tokens = load_vectors('cc.zh.300')"
   ]
  },
  {
   "cell_type": "code",
   "execution_count": 120,
   "metadata": {},
   "outputs": [],
   "source": [
    "import codecs\n",
    "def load_word_emb_binary(embedding_file_name_w_o_suffix):\n",
    "    print(\"Loading binary word embedding from {0}.txt and {0}.npy\".format(embedding_file_name_w_o_suffix))\n",
    "\n",
    "    with codecs.open(embedding_file_name_w_o_suffix + '.txt', 'r', 'utf-8') as f_in:\n",
    "        index2word = [line.strip() for line in f_in]\n",
    "\n",
    "    wv = np.load(embedding_file_name_w_o_suffix + '.npy')\n",
    "    word_embedding_map = {}\n",
    "    for i, w in enumerate(index2word):\n",
    "        word_embedding_map[w] = wv[i]\n",
    "\n",
    "    return word_embedding_map"
   ]
  },
  {
   "cell_type": "code",
   "execution_count": 121,
   "metadata": {},
   "outputs": [
    {
     "name": "stdout",
     "output_type": "stream",
     "text": [
      "Loading binary word embedding from cc.en.300.txt and cc.en.300.npy\n"
     ]
    }
   ],
   "source": [
    "vec_en = load_word_emb_binary('cc.en.300')"
   ]
  },
  {
   "cell_type": "code",
   "execution_count": 122,
   "metadata": {},
   "outputs": [
    {
     "name": "stdout",
     "output_type": "stream",
     "text": [
      "Loading binary word embedding from cc.zh.300.txt and cc.zh.300.npy\n"
     ]
    }
   ],
   "source": [
    "vec_zh = load_word_emb_binary('cc.zh.300')"
   ]
  },
  {
   "cell_type": "code",
   "execution_count": 123,
   "metadata": {},
   "outputs": [],
   "source": [
    "# Load embedding file\n",
    "zh_tokens = np.load('cc.zh.300.npy')\n",
    "en_tokens = np.load('cc.en.300.npy')"
   ]
  },
  {
   "cell_type": "code",
   "execution_count": 124,
   "metadata": {},
   "outputs": [],
   "source": [
    "df_en = pd.DataFrame(vec_en.items(), columns=['words', 'embedding']).set_index('words')\n",
    "df_zh = pd.DataFrame(vec_zh.items(), columns=['words', 'embedding']).set_index('words')"
   ]
  },
  {
   "cell_type": "code",
   "execution_count": 125,
   "metadata": {},
   "outputs": [
    {
     "data": {
      "text/html": [
       "<div>\n",
       "<style scoped>\n",
       "    .dataframe tbody tr th:only-of-type {\n",
       "        vertical-align: middle;\n",
       "    }\n",
       "\n",
       "    .dataframe tbody tr th {\n",
       "        vertical-align: top;\n",
       "    }\n",
       "\n",
       "    .dataframe thead th {\n",
       "        text-align: right;\n",
       "    }\n",
       "</style>\n",
       "<table border=\"1\" class=\"dataframe\">\n",
       "  <thead>\n",
       "    <tr style=\"text-align: right;\">\n",
       "      <th></th>\n",
       "      <th>embedding</th>\n",
       "    </tr>\n",
       "    <tr>\n",
       "      <th>words</th>\n",
       "      <th></th>\n",
       "    </tr>\n",
       "  </thead>\n",
       "  <tbody>\n",
       "    <tr>\n",
       "      <th>,</th>\n",
       "      <td>[0.125, -0.1079, 0.0245, -0.2529, 0.1057, -0.0...</td>\n",
       "    </tr>\n",
       "    <tr>\n",
       "      <th>the</th>\n",
       "      <td>[-0.0517, 0.074, -0.0131, 0.0447, -0.0343, 0.0...</td>\n",
       "    </tr>\n",
       "    <tr>\n",
       "      <th>.</th>\n",
       "      <td>[0.0342, -0.0801, 0.1162, -0.3968, -0.0147, -0...</td>\n",
       "    </tr>\n",
       "    <tr>\n",
       "      <th>and</th>\n",
       "      <td>[0.0082, -0.0899, 0.0265, -0.0086, -0.0609, 0....</td>\n",
       "    </tr>\n",
       "    <tr>\n",
       "      <th>to</th>\n",
       "      <td>[0.0047, 0.0281, -0.0296, -0.0108, -0.062, -0....</td>\n",
       "    </tr>\n",
       "  </tbody>\n",
       "</table>\n",
       "</div>"
      ],
      "text/plain": [
       "                                               embedding\n",
       "words                                                   \n",
       ",      [0.125, -0.1079, 0.0245, -0.2529, 0.1057, -0.0...\n",
       "the    [-0.0517, 0.074, -0.0131, 0.0447, -0.0343, 0.0...\n",
       ".      [0.0342, -0.0801, 0.1162, -0.3968, -0.0147, -0...\n",
       "and    [0.0082, -0.0899, 0.0265, -0.0086, -0.0609, 0....\n",
       "to     [0.0047, 0.0281, -0.0296, -0.0108, -0.062, -0...."
      ]
     },
     "execution_count": 125,
     "metadata": {},
     "output_type": "execute_result"
    }
   ],
   "source": [
    "df_en.head()"
   ]
  },
  {
   "cell_type": "code",
   "execution_count": 126,
   "metadata": {},
   "outputs": [
    {
     "data": {
      "text/html": [
       "<div>\n",
       "<style scoped>\n",
       "    .dataframe tbody tr th:only-of-type {\n",
       "        vertical-align: middle;\n",
       "    }\n",
       "\n",
       "    .dataframe tbody tr th {\n",
       "        vertical-align: top;\n",
       "    }\n",
       "\n",
       "    .dataframe thead th {\n",
       "        text-align: right;\n",
       "    }\n",
       "</style>\n",
       "<table border=\"1\" class=\"dataframe\">\n",
       "  <thead>\n",
       "    <tr style=\"text-align: right;\">\n",
       "      <th></th>\n",
       "      <th>embedding</th>\n",
       "    </tr>\n",
       "    <tr>\n",
       "      <th>words</th>\n",
       "      <th></th>\n",
       "    </tr>\n",
       "  </thead>\n",
       "  <tbody>\n",
       "    <tr>\n",
       "      <th>，</th>\n",
       "      <td>[0.008, 0.0336, 0.572, -0.1105, -0.02, 0.0195,...</td>\n",
       "    </tr>\n",
       "    <tr>\n",
       "      <th>的</th>\n",
       "      <td>[-0.0119, 0.051, 0.4397, -0.0427, -0.0501, -0....</td>\n",
       "    </tr>\n",
       "    <tr>\n",
       "      <th>。</th>\n",
       "      <td>[0.0093, 0.021, 0.7688, -0.0348, -0.0471, 0.05...</td>\n",
       "    </tr>\n",
       "    <tr>\n",
       "      <th>&lt;/s&gt;</th>\n",
       "      <td>[-0.0112, -0.0688, 1.0076, 0.007, -0.03, -0.01...</td>\n",
       "    </tr>\n",
       "    <tr>\n",
       "      <th>、</th>\n",
       "      <td>[0.0658, 0.0075, 0.5058, 0.0821, -0.0212, 0.02...</td>\n",
       "    </tr>\n",
       "  </tbody>\n",
       "</table>\n",
       "</div>"
      ],
      "text/plain": [
       "                                               embedding\n",
       "words                                                   \n",
       "，      [0.008, 0.0336, 0.572, -0.1105, -0.02, 0.0195,...\n",
       "的      [-0.0119, 0.051, 0.4397, -0.0427, -0.0501, -0....\n",
       "。      [0.0093, 0.021, 0.7688, -0.0348, -0.0471, 0.05...\n",
       "</s>   [-0.0112, -0.0688, 1.0076, 0.007, -0.03, -0.01...\n",
       "、      [0.0658, 0.0075, 0.5058, 0.0821, -0.0212, 0.02..."
      ]
     },
     "execution_count": 126,
     "metadata": {},
     "output_type": "execute_result"
    }
   ],
   "source": [
    "df_zh.head()"
   ]
  },
  {
   "cell_type": "markdown",
   "metadata": {},
   "source": [
    "## Tokenize using Jieba"
   ]
  },
  {
   "cell_type": "code",
   "execution_count": 131,
   "metadata": {
    "scrolled": true
   },
   "outputs": [],
   "source": [
    "zh_tokenized = df_translate.Chinese.apply(lambda x: str(x)).apply(jieba.lcut_for_search)"
   ]
  },
  {
   "cell_type": "code",
   "execution_count": 132,
   "metadata": {},
   "outputs": [
    {
     "data": {
      "text/plain": [
       "0    [你, 认为, 你, 的, 书面, 英语, 和, 口语, 熟练, 程度, 熟练程度, 如何, ？]\n",
       "1    [她, 的, 英语, 口语, 英语口语, 不是, 十分, 好, ，, 可, 她, 的, 意思...\n",
       "2              [天空, 中飘着, 几朵, 云, ，, 但, 阳光, 灿烂, 阳光灿烂, 。]\n",
       "3                           [我, 和, 妻子, 沿, 河岸, 走, 着, 。]\n",
       "4                       [萨姆, ：, 你, 打算, 如何, 处理, 那共瓶, ？]\n",
       "Name: Chinese, dtype: object"
      ]
     },
     "execution_count": 132,
     "metadata": {},
     "output_type": "execute_result"
    }
   ],
   "source": [
    "zh_tokenized.head()"
   ]
  },
  {
   "cell_type": "code",
   "execution_count": 133,
   "metadata": {
    "scrolled": true
   },
   "outputs": [
    {
     "data": {
      "text/plain": [
       "{' ',\n",
       " '.',\n",
       " '/',\n",
       " '1',\n",
       " '10',\n",
       " '15',\n",
       " '24',\n",
       " '3',\n",
       " '4',\n",
       " '41',\n",
       " '5',\n",
       " ':',\n",
       " '“',\n",
       " '”',\n",
       " '、',\n",
       " '。',\n",
       " '一',\n",
       " '一下',\n",
       " '一个',\n",
       " '一个月',\n",
       " '一只',\n",
       " '一周',\n",
       " '一家',\n",
       " '一本',\n",
       " '一起',\n",
       " '上',\n",
       " '上午',\n",
       " '上学',\n",
       " '上班',\n",
       " '上面',\n",
       " '下午',\n",
       " '下雨',\n",
       " '不',\n",
       " '不多',\n",
       " '不少',\n",
       " '不常',\n",
       " '不是',\n",
       " '不能',\n",
       " '世界',\n",
       " '东西',\n",
       " '东部',\n",
       " '两个',\n",
       " '个',\n",
       " '中飘着',\n",
       " '乔治',\n",
       " '乘',\n",
       " '也',\n",
       " '书面',\n",
       " '买',\n",
       " '了',\n",
       " '云',\n",
       " '人',\n",
       " '今天',\n",
       " '今天上午',\n",
       " '今晚',\n",
       " '他',\n",
       " '他们',\n",
       " '们',\n",
       " '伦敦',\n",
       " '伸进',\n",
       " '但',\n",
       " '但他却',\n",
       " '但是',\n",
       " '住',\n",
       " '住址',\n",
       " '作业',\n",
       " '你',\n",
       " '你们',\n",
       " '保持',\n",
       " '做作',\n",
       " '做作业',\n",
       " '先生',\n",
       " '入',\n",
       " '其他',\n",
       " '写',\n",
       " '准备',\n",
       " '几乎',\n",
       " '几天',\n",
       " '几朵',\n",
       " '则',\n",
       " '利风',\n",
       " '别开',\n",
       " '到',\n",
       " '前',\n",
       " '前天',\n",
       " '前年',\n",
       " '前门',\n",
       " '加里',\n",
       " '北部',\n",
       " '医生',\n",
       " '十分',\n",
       " '南部',\n",
       " '卡罗',\n",
       " '卡罗尔',\n",
       " '卧床',\n",
       " '去',\n",
       " '去年',\n",
       " '又',\n",
       " '口语',\n",
       " '只',\n",
       " '只有',\n",
       " '可',\n",
       " '可不',\n",
       " '可不是',\n",
       " '可以',\n",
       " '号',\n",
       " '吃',\n",
       " '吉姆',\n",
       " '吉尔',\n",
       " '同',\n",
       " '名字',\n",
       " '后天',\n",
       " '后面',\n",
       " '吗',\n",
       " '吧',\n",
       " '听',\n",
       " '呆',\n",
       " '告诉',\n",
       " '和',\n",
       " '咖啡',\n",
       " '唉',\n",
       " '售货',\n",
       " '售货员',\n",
       " '商店',\n",
       " '喝茶',\n",
       " '回',\n",
       " '回家',\n",
       " '因此',\n",
       " '国家',\n",
       " '国王',\n",
       " '图尔',\n",
       " '土豆',\n",
       " '在',\n",
       " '坐在',\n",
       " '处理',\n",
       " '大',\n",
       " '大利',\n",
       " '天上',\n",
       " '天气',\n",
       " '天空',\n",
       " '夫人',\n",
       " '她',\n",
       " '好',\n",
       " '如何',\n",
       " '妻子',\n",
       " '姓名',\n",
       " '威廉',\n",
       " '威廉斯',\n",
       " '孩子',\n",
       " '它',\n",
       " '客厅',\n",
       " '家里',\n",
       " '容易',\n",
       " '寒冷',\n",
       " '对',\n",
       " '对不起',\n",
       " '封信',\n",
       " '将会',\n",
       " '小',\n",
       " '小号',\n",
       " '小时',\n",
       " '小汽车',\n",
       " '小箱',\n",
       " '小箱子',\n",
       " '尔特',\n",
       " '就',\n",
       " '尺寸',\n",
       " '岁',\n",
       " '帕梅拉',\n",
       " '带上',\n",
       " '常',\n",
       " '常常',\n",
       " '常用',\n",
       " '常用语',\n",
       " '开往',\n",
       " '彭妮',\n",
       " '很',\n",
       " '得',\n",
       " '德国',\n",
       " '必须',\n",
       " '忘',\n",
       " '快',\n",
       " '怎么',\n",
       " '总是',\n",
       " '您',\n",
       " '想',\n",
       " '意大利',\n",
       " '意思',\n",
       " '感冒',\n",
       " '我',\n",
       " '我们',\n",
       " '我刚',\n",
       " '我现',\n",
       " '我能',\n",
       " '房间',\n",
       " '手册',\n",
       " '手提',\n",
       " '手提箱',\n",
       " '打',\n",
       " '打信',\n",
       " '打算',\n",
       " '把',\n",
       " '把手',\n",
       " '护士',\n",
       " '报纸',\n",
       " '拉链',\n",
       " '招待',\n",
       " '招待所',\n",
       " '掏出',\n",
       " '提箱',\n",
       " '搬进',\n",
       " '放在',\n",
       " '数学',\n",
       " '数学试题',\n",
       " '斯图尔',\n",
       " '斯图尔特',\n",
       " '旁边',\n",
       " '日',\n",
       " '日本',\n",
       " '早上',\n",
       " '时兴',\n",
       " '星期',\n",
       " '星期一',\n",
       " '昨天',\n",
       " '是',\n",
       " '晚上',\n",
       " '暖和',\n",
       " '最好',\n",
       " '月',\n",
       " '有',\n",
       " '有时',\n",
       " '来',\n",
       " '来行',\n",
       " '来说',\n",
       " '果酱',\n",
       " '标签',\n",
       " '梅拉',\n",
       " '次',\n",
       " '正',\n",
       " '正在',\n",
       " '步行',\n",
       " '每',\n",
       " '每天',\n",
       " '比',\n",
       " '比利',\n",
       " '汽车',\n",
       " '沏茶',\n",
       " '没',\n",
       " '没有',\n",
       " '河岸',\n",
       " '沿',\n",
       " '法国',\n",
       " '波淋',\n",
       " '清楚',\n",
       " '温暖',\n",
       " '火车',\n",
       " '灿烂',\n",
       " '点钟',\n",
       " '烟丝',\n",
       " '烤牛肉',\n",
       " '然后',\n",
       " '熟悉',\n",
       " '熟练',\n",
       " '熟练程度',\n",
       " '牛肉',\n",
       " '现在',\n",
       " '理解',\n",
       " '用语',\n",
       " '电视',\n",
       " '电话',\n",
       " '番茄',\n",
       " '的',\n",
       " '看',\n",
       " '看到',\n",
       " '看电视',\n",
       " '看见',\n",
       " '着',\n",
       " '睡觉',\n",
       " '知道',\n",
       " '磅',\n",
       " '程度',\n",
       " '窗前',\n",
       " '第',\n",
       " '箱',\n",
       " '箱子',\n",
       " '糖',\n",
       " '索耶',\n",
       " '给',\n",
       " '老板',\n",
       " '考卷',\n",
       " '而',\n",
       " '肯',\n",
       " '能',\n",
       " '自己',\n",
       " '苏格兰',\n",
       " '英国',\n",
       " '英语',\n",
       " '英语口语',\n",
       " '茶叶',\n",
       " '茶壶',\n",
       " '萨姆',\n",
       " '萨姆不常',\n",
       " '蓝色',\n",
       " '街',\n",
       " '衣袋',\n",
       " '西部',\n",
       " '要',\n",
       " '詹尼',\n",
       " '认为',\n",
       " '讲话',\n",
       " '试卷',\n",
       " '试题',\n",
       " '说',\n",
       " '请',\n",
       " '读',\n",
       " '货员',\n",
       " '走',\n",
       " '起来',\n",
       " '跟',\n",
       " '车库',\n",
       " '车站',\n",
       " '车里',\n",
       " '辆',\n",
       " '过',\n",
       " '还是',\n",
       " '还有',\n",
       " '还要',\n",
       " '这',\n",
       " '这儿',\n",
       " '这样',\n",
       " '这要',\n",
       " '这鞋',\n",
       " '迷了路',\n",
       " '途中',\n",
       " '通常',\n",
       " '那个',\n",
       " '那件',\n",
       " '那共瓶',\n",
       " '那里',\n",
       " '都',\n",
       " '里',\n",
       " '重感冒',\n",
       " '钥匙',\n",
       " '阳光',\n",
       " '阳光灿烂',\n",
       " '霍尔',\n",
       " '青年',\n",
       " '鞋',\n",
       " '顶端',\n",
       " '鲍勃',\n",
       " '！',\n",
       " '，',\n",
       " '：',\n",
       " '？'}"
      ]
     },
     "execution_count": 133,
     "metadata": {},
     "output_type": "execute_result"
    }
   ],
   "source": [
    "zh_words = set(np.hstack(zh_tokenized))\n",
    "zh_words"
   ]
  },
  {
   "cell_type": "code",
   "execution_count": 137,
   "metadata": {},
   "outputs": [
    {
     "data": {
      "text/html": [
       "<div>\n",
       "<style scoped>\n",
       "    .dataframe tbody tr th:only-of-type {\n",
       "        vertical-align: middle;\n",
       "    }\n",
       "\n",
       "    .dataframe tbody tr th {\n",
       "        vertical-align: top;\n",
       "    }\n",
       "\n",
       "    .dataframe thead th {\n",
       "        text-align: right;\n",
       "    }\n",
       "</style>\n",
       "<table border=\"1\" class=\"dataframe\">\n",
       "  <thead>\n",
       "    <tr style=\"text-align: right;\">\n",
       "      <th></th>\n",
       "      <th>embedding</th>\n",
       "    </tr>\n",
       "    <tr>\n",
       "      <th>words</th>\n",
       "      <th></th>\n",
       "    </tr>\n",
       "  </thead>\n",
       "  <tbody>\n",
       "    <tr>\n",
       "      <th>，</th>\n",
       "      <td>[0.008, 0.0336, 0.572, -0.1105, -0.02, 0.0195,...</td>\n",
       "    </tr>\n",
       "    <tr>\n",
       "      <th>的</th>\n",
       "      <td>[-0.0119, 0.051, 0.4397, -0.0427, -0.0501, -0....</td>\n",
       "    </tr>\n",
       "    <tr>\n",
       "      <th>。</th>\n",
       "      <td>[0.0093, 0.021, 0.7688, -0.0348, -0.0471, 0.05...</td>\n",
       "    </tr>\n",
       "    <tr>\n",
       "      <th>、</th>\n",
       "      <td>[0.0658, 0.0075, 0.5058, 0.0821, -0.0212, 0.02...</td>\n",
       "    </tr>\n",
       "    <tr>\n",
       "      <th>是</th>\n",
       "      <td>[-0.0058, 0.0187, 0.5163, -0.0498, -0.0657, 0....</td>\n",
       "    </tr>\n",
       "  </tbody>\n",
       "</table>\n",
       "</div>"
      ],
      "text/plain": [
       "                                               embedding\n",
       "words                                                   \n",
       "，      [0.008, 0.0336, 0.572, -0.1105, -0.02, 0.0195,...\n",
       "的      [-0.0119, 0.051, 0.4397, -0.0427, -0.0501, -0....\n",
       "。      [0.0093, 0.021, 0.7688, -0.0348, -0.0471, 0.05...\n",
       "、      [0.0658, 0.0075, 0.5058, 0.0821, -0.0212, 0.02...\n",
       "是      [-0.0058, 0.0187, 0.5163, -0.0498, -0.0657, 0...."
      ]
     },
     "execution_count": 137,
     "metadata": {},
     "output_type": "execute_result"
    }
   ],
   "source": [
    "# Get word embeddings of the words that exist in the dataset\n",
    "df_zh = df_zh[df_zh.index.isin(zh_words)]\n",
    "df_zh.head()"
   ]
  },
  {
   "cell_type": "markdown",
   "metadata": {},
   "source": [
    "## Tokenize using nltk"
   ]
  },
  {
   "cell_type": "code",
   "execution_count": 152,
   "metadata": {},
   "outputs": [],
   "source": [
    "# Pre processing\n",
    "def preprocess(sample_text):\n",
    "    sample_text = sample_text.lower() #All lowercase\n",
    "    sample_text = sample_text.strip() #Strip\n",
    "    sample_text = re.sub(' +', ' ', sample_text) #Trim whitespace\n",
    "    sample_text = sample_text.translate(str.maketrans(\"\",\"\", string.punctuation))\n",
    "    sample_text = nltk.tokenize.word_tokenize(sample_text) #Word tokenizer\n",
    "    sample_text = [i for i in sample_text if i!= ''] #Trim extra spaces\n",
    "    return sample_text"
   ]
  },
  {
   "cell_type": "code",
   "execution_count": 154,
   "metadata": {},
   "outputs": [],
   "source": [
    "en_tokenized = df_translate.English.apply(lambda x: preprocess(x))"
   ]
  },
  {
   "cell_type": "code",
   "execution_count": 156,
   "metadata": {},
   "outputs": [
    {
     "data": {
      "text/plain": [
       "0    [how, do, you, think, of, your, proficiency, i...\n",
       "1    [her, spoken, english, is, not, very, good, bu...\n",
       "2    [there, are, some, clouds, in, the, skybut, th...\n",
       "3    [my, wife, and, i, are, walking, along, the, b...\n",
       "4    [sam, what, are, you, going, to, do, with, tha...\n",
       "Name: English, dtype: object"
      ]
     },
     "execution_count": 156,
     "metadata": {},
     "output_type": "execute_result"
    }
   ],
   "source": [
    "en_tokenized.head()"
   ]
  },
  {
   "cell_type": "code",
   "execution_count": 157,
   "metadata": {},
   "outputs": [
    {
     "data": {
      "text/plain": [
       "{'10',\n",
       " '24th',\n",
       " 'a',\n",
       " 'about',\n",
       " 'address',\n",
       " 'afraid',\n",
       " 'after',\n",
       " 'afternoon',\n",
       " 'again',\n",
       " 'agobut',\n",
       " 'along',\n",
       " 'already',\n",
       " 'always',\n",
       " 'am',\n",
       " 'and',\n",
       " 'any',\n",
       " 'april',\n",
       " 'are',\n",
       " 'arrive',\n",
       " 'as',\n",
       " 'assistant',\n",
       " 'at',\n",
       " 'back',\n",
       " 'bad',\n",
       " 'banks',\n",
       " 'be',\n",
       " 'bed',\n",
       " 'beef',\n",
       " 'been',\n",
       " 'before',\n",
       " 'behind',\n",
       " 'better',\n",
       " 'billy',\n",
       " 'blue',\n",
       " 'bob',\n",
       " 'boss',\n",
       " 'but',\n",
       " 'by',\n",
       " 'can',\n",
       " 'cant',\n",
       " 'car',\n",
       " 'cares',\n",
       " 'carol',\n",
       " 'cars',\n",
       " 'carsamerican',\n",
       " 'carsitalian',\n",
       " 'case',\n",
       " 'children',\n",
       " 'clouds',\n",
       " 'coffee',\n",
       " 'cold',\n",
       " 'coldmrwilliamsso',\n",
       " 'come',\n",
       " 'country',\n",
       " 'day',\n",
       " 'do',\n",
       " 'doctor',\n",
       " 'does',\n",
       " 'doesnt',\n",
       " 'doing',\n",
       " 'dont',\n",
       " 'door',\n",
       " 'doubt',\n",
       " 'dress',\n",
       " 'drinks',\n",
       " 'drive',\n",
       " 'each',\n",
       " 'east',\n",
       " 'easy',\n",
       " 'english',\n",
       " 'enough',\n",
       " 'evening',\n",
       " 'every',\n",
       " 'excuse',\n",
       " 'fashion',\n",
       " 'fifteenfive',\n",
       " 'foot',\n",
       " 'for',\n",
       " 'fortyone',\n",
       " 'four',\n",
       " 'french',\n",
       " 'front',\n",
       " 'garage',\n",
       " 'gary',\n",
       " 'george',\n",
       " 'german',\n",
       " 'get',\n",
       " 'go',\n",
       " 'goes',\n",
       " 'going',\n",
       " 'good',\n",
       " 'got',\n",
       " 'green',\n",
       " 'guy',\n",
       " 'had',\n",
       " 'hand',\n",
       " 'handle',\n",
       " 'has',\n",
       " 'have',\n",
       " 'havent',\n",
       " 'he',\n",
       " 'her',\n",
       " 'herein',\n",
       " 'hes',\n",
       " 'him',\n",
       " 'his',\n",
       " 'home',\n",
       " 'homework',\n",
       " 'hostel',\n",
       " 'hours',\n",
       " 'how',\n",
       " 'i',\n",
       " 'im',\n",
       " 'in',\n",
       " 'into',\n",
       " 'is',\n",
       " 'it',\n",
       " 'its',\n",
       " 'jam',\n",
       " 'japanese',\n",
       " 'jenny',\n",
       " 'jill',\n",
       " 'jim',\n",
       " 'just',\n",
       " 'keep',\n",
       " 'ken',\n",
       " 'key',\n",
       " 'king',\n",
       " 'know',\n",
       " 'label',\n",
       " 'lady',\n",
       " 'large',\n",
       " 'last',\n",
       " 'left',\n",
       " 'lets',\n",
       " 'letter',\n",
       " 'lettersshe',\n",
       " 'like',\n",
       " 'living',\n",
       " 'london',\n",
       " 'look',\n",
       " 'looked',\n",
       " 'lost',\n",
       " 'lot',\n",
       " 'make',\n",
       " 'many',\n",
       " 'maths',\n",
       " 'me',\n",
       " 'meaning',\n",
       " 'monday',\n",
       " 'month',\n",
       " 'morning',\n",
       " 'move',\n",
       " 'mrmall',\n",
       " 'mrsawyer',\n",
       " 'mrssawyer',\n",
       " 'much',\n",
       " 'must',\n",
       " 'my',\n",
       " 'name',\n",
       " 'nearly',\n",
       " 'newspaper',\n",
       " 'next',\n",
       " 'night',\n",
       " 'north',\n",
       " 'not',\n",
       " 'now',\n",
       " 'number',\n",
       " 'nurse',\n",
       " 'of',\n",
       " 'often',\n",
       " 'old',\n",
       " 'on',\n",
       " 'one',\n",
       " 'only',\n",
       " 'or',\n",
       " 'other',\n",
       " 'out',\n",
       " 'pamela',\n",
       " 'paper',\n",
       " 'papers',\n",
       " 'pauline',\n",
       " 'penny',\n",
       " 'phrasebook',\n",
       " 'please',\n",
       " 'pocket',\n",
       " 'potatoes',\n",
       " 'pound',\n",
       " 'proficiency',\n",
       " 'put',\n",
       " 'quarter',\n",
       " 'quicklyyoure',\n",
       " 'reads',\n",
       " 'river',\n",
       " 'roast',\n",
       " 'room',\n",
       " 'said',\n",
       " 'saidcan',\n",
       " 'sam',\n",
       " 'sat',\n",
       " 'school',\n",
       " 'scotland',\n",
       " 'see',\n",
       " 'she',\n",
       " 'shining',\n",
       " 'shoes',\n",
       " 'shone',\n",
       " 'shop',\n",
       " 'shops',\n",
       " 'size',\n",
       " 'skybut',\n",
       " 'small',\n",
       " 'so',\n",
       " 'some',\n",
       " 'sometimes',\n",
       " 'south',\n",
       " 'speak',\n",
       " 'spoken',\n",
       " 'station',\n",
       " 'stay',\n",
       " 'staying',\n",
       " 'stays',\n",
       " 'stewart',\n",
       " 'street',\n",
       " 'sugar',\n",
       " 'suitcase',\n",
       " 'sun',\n",
       " 'tea',\n",
       " 'teapotbut',\n",
       " 'telephoned',\n",
       " 'television',\n",
       " 'tell',\n",
       " 'that',\n",
       " 'the',\n",
       " 'their',\n",
       " 'then',\n",
       " 'there',\n",
       " 'theres',\n",
       " 'they',\n",
       " 'theyll',\n",
       " 'think',\n",
       " 'this',\n",
       " 'those',\n",
       " 'three',\n",
       " 'through',\n",
       " 'times',\n",
       " 'tin',\n",
       " 'to',\n",
       " 'tobacco',\n",
       " 'today',\n",
       " 'tomatoesbut',\n",
       " 'tomorrow',\n",
       " 'tonight',\n",
       " 'too',\n",
       " 'took',\n",
       " 'top',\n",
       " 'train',\n",
       " 'two',\n",
       " 'type',\n",
       " 'typing',\n",
       " 'up',\n",
       " 'usually',\n",
       " 'vase',\n",
       " 'very',\n",
       " 'walking',\n",
       " 'want',\n",
       " 'warm',\n",
       " 'was',\n",
       " 'watch',\n",
       " 'way',\n",
       " 'we',\n",
       " 'weathers',\n",
       " 'week',\n",
       " 'well',\n",
       " 'were',\n",
       " 'werent',\n",
       " 'west',\n",
       " 'wet',\n",
       " 'weve',\n",
       " 'what',\n",
       " 'wife',\n",
       " 'window',\n",
       " 'windy',\n",
       " 'with',\n",
       " 'without',\n",
       " 'work',\n",
       " 'world',\n",
       " 'written',\n",
       " 'wrote',\n",
       " 'year',\n",
       " 'years',\n",
       " 'yesterday',\n",
       " 'you',\n",
       " 'your',\n",
       " 'youre',\n",
       " 'youth',\n",
       " 'zip'}"
      ]
     },
     "execution_count": 157,
     "metadata": {},
     "output_type": "execute_result"
    }
   ],
   "source": [
    "en_words = set(np.hstack(en_tokenized))\n",
    "en_words"
   ]
  },
  {
   "cell_type": "code",
   "execution_count": 158,
   "metadata": {},
   "outputs": [
    {
     "data": {
      "text/html": [
       "<div>\n",
       "<style scoped>\n",
       "    .dataframe tbody tr th:only-of-type {\n",
       "        vertical-align: middle;\n",
       "    }\n",
       "\n",
       "    .dataframe tbody tr th {\n",
       "        vertical-align: top;\n",
       "    }\n",
       "\n",
       "    .dataframe thead th {\n",
       "        text-align: right;\n",
       "    }\n",
       "</style>\n",
       "<table border=\"1\" class=\"dataframe\">\n",
       "  <thead>\n",
       "    <tr style=\"text-align: right;\">\n",
       "      <th></th>\n",
       "      <th>embedding</th>\n",
       "    </tr>\n",
       "    <tr>\n",
       "      <th>words</th>\n",
       "      <th></th>\n",
       "    </tr>\n",
       "  </thead>\n",
       "  <tbody>\n",
       "    <tr>\n",
       "      <th>the</th>\n",
       "      <td>[-0.0517, 0.074, -0.0131, 0.0447, -0.0343, 0.0...</td>\n",
       "    </tr>\n",
       "    <tr>\n",
       "      <th>and</th>\n",
       "      <td>[0.0082, -0.0899, 0.0265, -0.0086, -0.0609, 0....</td>\n",
       "    </tr>\n",
       "    <tr>\n",
       "      <th>to</th>\n",
       "      <td>[0.0047, 0.0281, -0.0296, -0.0108, -0.062, -0....</td>\n",
       "    </tr>\n",
       "    <tr>\n",
       "      <th>of</th>\n",
       "      <td>[-0.0001, -0.1877, -0.0711, -0.4632, 0.0002, 0...</td>\n",
       "    </tr>\n",
       "    <tr>\n",
       "      <th>a</th>\n",
       "      <td>[0.0876, -0.4959, -0.0499, -0.0937, -0.0472, -...</td>\n",
       "    </tr>\n",
       "  </tbody>\n",
       "</table>\n",
       "</div>"
      ],
      "text/plain": [
       "                                               embedding\n",
       "words                                                   \n",
       "the    [-0.0517, 0.074, -0.0131, 0.0447, -0.0343, 0.0...\n",
       "and    [0.0082, -0.0899, 0.0265, -0.0086, -0.0609, 0....\n",
       "to     [0.0047, 0.0281, -0.0296, -0.0108, -0.062, -0....\n",
       "of     [-0.0001, -0.1877, -0.0711, -0.4632, 0.0002, 0...\n",
       "a      [0.0876, -0.4959, -0.0499, -0.0937, -0.0472, -..."
      ]
     },
     "execution_count": 158,
     "metadata": {},
     "output_type": "execute_result"
    }
   ],
   "source": [
    "# Get word embeddings of the words that exist in the dataset\n",
    "df_en = df_en[df_en.index.isin(en_words)]\n",
    "df_en.head()"
   ]
  },
  {
   "cell_type": "markdown",
   "metadata": {},
   "source": [
    "## Align embeddings of chinese and english"
   ]
  },
  {
   "cell_type": "code",
   "execution_count": 164,
   "metadata": {},
   "outputs": [],
   "source": [
    "# Create a dictionary of words: embeddings\n",
    "vec_en = dict(zip(df_en.index, df_en.embedding))\n",
    "vec_zh = dict(zip(df_zh.index, df_zh.embedding))"
   ]
  },
  {
   "cell_type": "code",
   "execution_count": 167,
   "metadata": {},
   "outputs": [],
   "source": [
    "def normalized(a, axis=-1, order=2):\n",
    "    \"\"\"Utility function to normalize the rows of a numpy array.\"\"\"\n",
    "    l2 = np.atleast_1d(np.linalg.norm(a, order, axis))\n",
    "    l2[l2==0] = 1\n",
    "    return a / np.expand_dims(l2, axis)\n",
    "\n",
    "def make_training_matrices(source_dictionary, target_dictionary, bilingual_dictionary):\n",
    "    \"\"\"\n",
    "    Source and target dictionaries are the FastVector objects of\n",
    "    source/target languages. bilingual_dictionary is a list of \n",
    "    translation pair tuples [(source_word, target_word), ...].\n",
    "    \"\"\"\n",
    "    source_matrix = []\n",
    "    target_matrix = []\n",
    "\n",
    "    for (source, target) in bilingual_dictionary:\n",
    "        if source in source_dictionary and target in target_dictionary:\n",
    "            source_matrix.append(source_dictionary[source])\n",
    "            target_matrix.append(target_dictionary[target])\n",
    "\n",
    "    # return training matrices\n",
    "    return np.array(source_matrix), np.array(target_matrix)\n",
    "\n",
    "def learn_transformation(source_matrix, target_matrix, normalize_vectors=True):\n",
    "    \"\"\"\n",
    "    Source and target matrices are numpy arrays, shape\n",
    "    (dictionary_length, embedding_dimension). These contain paired\n",
    "    word vectors from the bilingual dictionary.\n",
    "    \"\"\"\n",
    "    # optionally normalize the training vectors\n",
    "    if normalize_vectors:\n",
    "        source_matrix = normalized(source_matrix)\n",
    "        target_matrix = normalized(target_matrix)\n",
    "\n",
    "    # perform the SVD\n",
    "    product = np.matmul(source_matrix.transpose(), target_matrix)\n",
    "    U, s, V = np.linalg.svd(product)\n",
    "\n",
    "    # return orthogonal transformation which aligns source language to the target\n",
    "    return np.matmul(U, V)"
   ]
  },
  {
   "cell_type": "code",
   "execution_count": 168,
   "metadata": {},
   "outputs": [],
   "source": [
    "bilingual_dictionary = pd.read_csv('zh-en.txt', sep=' ', header=None)\n",
    "bilingual_dictionary = list(zip(bilingual_dictionary[0], bilingual_dictionary[1]))\n",
    "\n",
    "# form the training matrices\n",
    "source_matrix, target_matrix = make_training_matrices(\n",
    "    vec_zh, vec_en, bilingual_dictionary)\n",
    "\n",
    "# learn and apply the transformation\n",
    "transform = learn_transformation(source_matrix, target_matrix)"
   ]
  },
  {
   "cell_type": "code",
   "execution_count": 173,
   "metadata": {},
   "outputs": [],
   "source": [
    "transform = transform\n",
    "# transform = np.loadtxt('zh.txt')\n",
    "\n",
    "zh_arr = np.vstack(df_zh.embedding)\n",
    "en_arr = np.vstack(df_en.embedding)\n",
    "\n",
    "zh_arr = (zh_arr@transform)\n",
    "\n",
    "df_zh['embedding'] = [arr for arr in zh_arr]\n",
    "vec_zh = dict(zip(df_zh.index, zh_arr))"
   ]
  },
  {
   "cell_type": "code",
   "execution_count": 175,
   "metadata": {},
   "outputs": [
    {
     "data": {
      "text/html": [
       "<div>\n",
       "<style scoped>\n",
       "    .dataframe tbody tr th:only-of-type {\n",
       "        vertical-align: middle;\n",
       "    }\n",
       "\n",
       "    .dataframe tbody tr th {\n",
       "        vertical-align: top;\n",
       "    }\n",
       "\n",
       "    .dataframe thead th {\n",
       "        text-align: right;\n",
       "    }\n",
       "</style>\n",
       "<table border=\"1\" class=\"dataframe\">\n",
       "  <thead>\n",
       "    <tr style=\"text-align: right;\">\n",
       "      <th></th>\n",
       "      <th>embedding</th>\n",
       "    </tr>\n",
       "    <tr>\n",
       "      <th>words</th>\n",
       "      <th></th>\n",
       "    </tr>\n",
       "  </thead>\n",
       "  <tbody>\n",
       "    <tr>\n",
       "      <th>，</th>\n",
       "      <td>[-0.07338314571982124, 0.03691271652186637, -0...</td>\n",
       "    </tr>\n",
       "    <tr>\n",
       "      <th>的</th>\n",
       "      <td>[-0.005431466050946035, -0.12197806339510826, ...</td>\n",
       "    </tr>\n",
       "    <tr>\n",
       "      <th>。</th>\n",
       "      <td>[-0.1157173307236048, -0.0003797898557479362, ...</td>\n",
       "    </tr>\n",
       "    <tr>\n",
       "      <th>、</th>\n",
       "      <td>[-0.0943732928806934, -0.02573807322035622, 0....</td>\n",
       "    </tr>\n",
       "    <tr>\n",
       "      <th>是</th>\n",
       "      <td>[-0.03546400068256213, 0.0009364660024190202, ...</td>\n",
       "    </tr>\n",
       "  </tbody>\n",
       "</table>\n",
       "</div>"
      ],
      "text/plain": [
       "                                               embedding\n",
       "words                                                   \n",
       "，      [-0.07338314571982124, 0.03691271652186637, -0...\n",
       "的      [-0.005431466050946035, -0.12197806339510826, ...\n",
       "。      [-0.1157173307236048, -0.0003797898557479362, ...\n",
       "、      [-0.0943732928806934, -0.02573807322035622, 0....\n",
       "是      [-0.03546400068256213, 0.0009364660024190202, ..."
      ]
     },
     "execution_count": 175,
     "metadata": {},
     "output_type": "execute_result"
    }
   ],
   "source": [
    "df_zh.head()"
   ]
  },
  {
   "cell_type": "markdown",
   "metadata": {},
   "source": [
    "## Getting nearest neighbor"
   ]
  },
  {
   "cell_type": "code",
   "execution_count": 176,
   "metadata": {},
   "outputs": [],
   "source": [
    "def get_w2v(sentence, model):\n",
    "    \"\"\"\n",
    "    :param sentence: inputs a single sentences whose word embedding is to be extracted.\n",
    "    :param model: inputs glove model.\n",
    "    :return: returns numpy array containing word embedding of all words    in input sentence.\n",
    "    \"\"\"\n",
    "    return np.array([model.get(val, np.zeros(100)) for val in sentence.split()], dtype=np.float64)"
   ]
  },
  {
   "cell_type": "code",
   "execution_count": 177,
   "metadata": {},
   "outputs": [],
   "source": [
    "def get_nn(word, src_emb, tgt_emb, df_tgt, K=5):\n",
    "    print(\"Nearest neighbors of \\\"%s\\\":\" % word)\n",
    "    word_emb = get_w2v(word, src_emb).T\n",
    "    scores = (tgt_emb / np.linalg.norm(tgt_emb, 2, 1)[:, None]).dot(word_emb / np.linalg.norm(word_emb))\n",
    "    k_best = scores.reshape(1,-1)[0].argsort()[-5:][::-1]\n",
    "    for i, idx in enumerate(k_best):\n",
    "        print('%.4f - %s' % (scores[idx], df_tgt.iloc[idx].name))"
   ]
  },
  {
   "cell_type": "code",
   "execution_count": 195,
   "metadata": {},
   "outputs": [
    {
     "name": "stdout",
     "output_type": "stream",
     "text": [
      "Nearest neighbors of \"monday\":\n",
      "0.9532 - 星期一\n",
      "0.5311 - 早上\n",
      "0.5151 - 星期\n",
      "0.5114 - 晚上\n",
      "0.4904 - 昨天\n"
     ]
    }
   ],
   "source": [
    "get_nn('monday', vec_en, zh_arr, df_zh)"
   ]
  },
  {
   "cell_type": "markdown",
   "metadata": {},
   "source": [
    "## Comparing translations"
   ]
  },
  {
   "cell_type": "code",
   "execution_count": 208,
   "metadata": {},
   "outputs": [],
   "source": [
    "def en_to_zh(word, K=5):\n",
    "    src_emb, tgt_emb, df_tgt = vec_en, zh_arr, df_zh\n",
    "    word_emb = get_w2v(word, src_emb).T\n",
    "    scores = (tgt_emb / np.linalg.norm(tgt_emb, 2, 1)[:, None]).dot(word_emb / np.linalg.norm(word_emb))\n",
    "    k_best = scores.reshape(1,-1)[0].argsort()[-5:][::-1]\n",
    "    final = k_best[0]\n",
    "    return df_tgt.iloc[final].name\n",
    "\n",
    "def zh_to_en(word, K=5):\n",
    "    src_emb, tgt_emb, df_tgt = vec_zh, en_arr, df_en\n",
    "    word_emb = get_w2v(word, src_emb).T\n",
    "    scores = (tgt_emb / np.linalg.norm(tgt_emb, 2, 1)[:, None]).dot(word_emb / np.linalg.norm(word_emb))\n",
    "    k_best = scores.reshape(1,-1)[0].argsort()[-5:][::-1]\n",
    "    final = k_best[0]\n",
    "    return df_tgt.iloc[final].name"
   ]
  },
  {
   "cell_type": "code",
   "execution_count": 203,
   "metadata": {},
   "outputs": [
    {
     "data": {
      "text/plain": [
       "'星期一'"
      ]
     },
     "execution_count": 203,
     "metadata": {},
     "output_type": "execute_result"
    }
   ],
   "source": [
    "en_to_zh('monday')"
   ]
  },
  {
   "cell_type": "code",
   "execution_count": 209,
   "metadata": {},
   "outputs": [
    {
     "data": {
      "text/plain": [
       "'monday'"
      ]
     },
     "execution_count": 209,
     "metadata": {},
     "output_type": "execute_result"
    }
   ],
   "source": [
    "zh_to_en('星期一')"
   ]
  }
 ],
 "metadata": {
  "kernelspec": {
   "display_name": "Python 3",
   "language": "python",
   "name": "python3"
  },
  "language_info": {
   "codemirror_mode": {
    "name": "ipython",
    "version": 3
   },
   "file_extension": ".py",
   "mimetype": "text/x-python",
   "name": "python",
   "nbconvert_exporter": "python",
   "pygments_lexer": "ipython3",
   "version": "3.7.3"
  },
  "toc": {
   "base_numbering": 1,
   "nav_menu": {},
   "number_sections": true,
   "sideBar": true,
   "skip_h1_title": false,
   "title_cell": "Table of Contents",
   "title_sidebar": "Contents",
   "toc_cell": false,
   "toc_position": {
    "height": "calc(100% - 180px)",
    "left": "10px",
    "top": "150px",
    "width": "169.2px"
   },
   "toc_section_display": true,
   "toc_window_display": true
  }
 },
 "nbformat": 4,
 "nbformat_minor": 2
}
